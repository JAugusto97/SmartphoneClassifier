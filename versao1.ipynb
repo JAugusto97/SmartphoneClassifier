{
 "cells": [
  {
   "cell_type": "code",
   "execution_count": 1,
   "metadata": {},
   "outputs": [],
   "source": [
    "import pandas as pd\n",
    "import numpy as np\n",
    "import nltk\n",
    "from sklearn.cluster import KMeans\n",
    "\n",
    "import warnings\n",
    "warnings.filterwarnings(\"ignore\")"
   ]
  },
  {
   "cell_type": "code",
   "execution_count": 2,
   "metadata": {},
   "outputs": [],
   "source": [
    "data = pd.read_table(\"data_estag_ds.tsv\") # Leitura dos dados"
   ]
  },
  {
   "cell_type": "code",
   "execution_count": 3,
   "metadata": {},
   "outputs": [
    {
     "data": {
      "text/html": [
       "<div>\n",
       "<style scoped>\n",
       "    .dataframe tbody tr th:only-of-type {\n",
       "        vertical-align: middle;\n",
       "    }\n",
       "\n",
       "    .dataframe tbody tr th {\n",
       "        vertical-align: top;\n",
       "    }\n",
       "\n",
       "    .dataframe thead th {\n",
       "        text-align: right;\n",
       "    }\n",
       "</style>\n",
       "<table border=\"1\" class=\"dataframe\">\n",
       "  <thead>\n",
       "    <tr style=\"text-align: right;\">\n",
       "      <th></th>\n",
       "      <th>ID</th>\n",
       "      <th>TITLE</th>\n",
       "    </tr>\n",
       "  </thead>\n",
       "  <tbody>\n",
       "    <tr>\n",
       "      <th>0</th>\n",
       "      <td>1041354</td>\n",
       "      <td>Acessório T - Jean Bag For Girls para DS Lite</td>\n",
       "    </tr>\n",
       "    <tr>\n",
       "      <th>1</th>\n",
       "      <td>1041782</td>\n",
       "      <td>Carrinho de Bebê Berço-Passeio - Pegasus Pink ...</td>\n",
       "    </tr>\n",
       "    <tr>\n",
       "      <th>2</th>\n",
       "      <td>1041834</td>\n",
       "      <td>Carrinho de Bebê para Gêmeos Berço-Passeio - T...</td>\n",
       "    </tr>\n",
       "    <tr>\n",
       "      <th>3</th>\n",
       "      <td>1042568</td>\n",
       "      <td>Car Center - Calesita</td>\n",
       "    </tr>\n",
       "    <tr>\n",
       "      <th>4</th>\n",
       "      <td>1042584</td>\n",
       "      <td>Donka Trem com Som - Calesita</td>\n",
       "    </tr>\n",
       "  </tbody>\n",
       "</table>\n",
       "</div>"
      ],
      "text/plain": [
       "        ID                                              TITLE\n",
       "0  1041354      Acessório T - Jean Bag For Girls para DS Lite\n",
       "1  1041782  Carrinho de Bebê Berço-Passeio - Pegasus Pink ...\n",
       "2  1041834  Carrinho de Bebê para Gêmeos Berço-Passeio - T...\n",
       "3  1042568                              Car Center - Calesita\n",
       "4  1042584                      Donka Trem com Som - Calesita"
      ]
     },
     "execution_count": 3,
     "metadata": {},
     "output_type": "execute_result"
    }
   ],
   "source": [
    "data.head() # Estrutura dos dados"
   ]
  },
  {
   "cell_type": "code",
   "execution_count": 4,
   "metadata": {},
   "outputs": [
    {
     "data": {
      "text/plain": [
       "ID       0\n",
       "TITLE    0\n",
       "dtype: int64"
      ]
     },
     "execution_count": 4,
     "metadata": {},
     "output_type": "execute_result"
    }
   ],
   "source": [
    "data.isnull().sum() # Nao tem dados faltando"
   ]
  },
  {
   "cell_type": "code",
   "execution_count": 5,
   "metadata": {},
   "outputs": [
    {
     "name": "stdout",
     "output_type": "stream",
     "text": [
      "Numero de produtos no total: 2606\n",
      "Numero de produtos unicos: 2548\n"
     ]
    }
   ],
   "source": [
    "print(\"Numero de produtos no total:\", len(data))\n",
    "print(\"Numero de produtos unicos:\", len(data[\"TITLE\"].unique()))\n",
    "\n",
    "# Não existem muitos produtos repetidos"
   ]
  },
  {
   "cell_type": "code",
   "execution_count": 6,
   "metadata": {},
   "outputs": [],
   "source": [
    "TOKENS = {}\n",
    "palavras_chave = {}\n",
    "for i, row in data.iterrows():\n",
    "    TOKENS[i] = nltk.word_tokenize(str.upper(data[\"TITLE\"][i]))\n",
    "\n",
    "data[\"TOKENS\"] = TOKENS.values() # Criacao de uma nova feature com os tokens"
   ]
  },
  {
   "cell_type": "code",
   "execution_count": 7,
   "metadata": {
    "scrolled": true
   },
   "outputs": [
    {
     "data": {
      "text/html": [
       "<div>\n",
       "<style scoped>\n",
       "    .dataframe tbody tr th:only-of-type {\n",
       "        vertical-align: middle;\n",
       "    }\n",
       "\n",
       "    .dataframe tbody tr th {\n",
       "        vertical-align: top;\n",
       "    }\n",
       "\n",
       "    .dataframe thead th {\n",
       "        text-align: right;\n",
       "    }\n",
       "</style>\n",
       "<table border=\"1\" class=\"dataframe\">\n",
       "  <thead>\n",
       "    <tr style=\"text-align: right;\">\n",
       "      <th></th>\n",
       "      <th>ID</th>\n",
       "      <th>TITLE</th>\n",
       "      <th>TOKENS</th>\n",
       "    </tr>\n",
       "  </thead>\n",
       "  <tbody>\n",
       "    <tr>\n",
       "      <th>0</th>\n",
       "      <td>1041354</td>\n",
       "      <td>Acessório T - Jean Bag For Girls para DS Lite</td>\n",
       "      <td>[ACESSÓRIO, T, -, JEAN, BAG, FOR, GIRLS, PARA,...</td>\n",
       "    </tr>\n",
       "    <tr>\n",
       "      <th>1</th>\n",
       "      <td>1041782</td>\n",
       "      <td>Carrinho de Bebê Berço-Passeio - Pegasus Pink ...</td>\n",
       "      <td>[CARRINHO, DE, BEBÊ, BERÇO-PASSEIO, -, PEGASUS...</td>\n",
       "    </tr>\n",
       "    <tr>\n",
       "      <th>2</th>\n",
       "      <td>1041834</td>\n",
       "      <td>Carrinho de Bebê para Gêmeos Berço-Passeio - T...</td>\n",
       "      <td>[CARRINHO, DE, BEBÊ, PARA, GÊMEOS, BERÇO-PASSE...</td>\n",
       "    </tr>\n",
       "    <tr>\n",
       "      <th>3</th>\n",
       "      <td>1042568</td>\n",
       "      <td>Car Center - Calesita</td>\n",
       "      <td>[CAR, CENTER, -, CALESITA]</td>\n",
       "    </tr>\n",
       "    <tr>\n",
       "      <th>4</th>\n",
       "      <td>1042584</td>\n",
       "      <td>Donka Trem com Som - Calesita</td>\n",
       "      <td>[DONKA, TREM, COM, SOM, -, CALESITA]</td>\n",
       "    </tr>\n",
       "  </tbody>\n",
       "</table>\n",
       "</div>"
      ],
      "text/plain": [
       "        ID                                              TITLE  \\\n",
       "0  1041354      Acessório T - Jean Bag For Girls para DS Lite   \n",
       "1  1041782  Carrinho de Bebê Berço-Passeio - Pegasus Pink ...   \n",
       "2  1041834  Carrinho de Bebê para Gêmeos Berço-Passeio - T...   \n",
       "3  1042568                              Car Center - Calesita   \n",
       "4  1042584                      Donka Trem com Som - Calesita   \n",
       "\n",
       "                                              TOKENS  \n",
       "0  [ACESSÓRIO, T, -, JEAN, BAG, FOR, GIRLS, PARA,...  \n",
       "1  [CARRINHO, DE, BEBÊ, BERÇO-PASSEIO, -, PEGASUS...  \n",
       "2  [CARRINHO, DE, BEBÊ, PARA, GÊMEOS, BERÇO-PASSE...  \n",
       "3                         [CAR, CENTER, -, CALESITA]  \n",
       "4               [DONKA, TREM, COM, SOM, -, CALESITA]  "
      ]
     },
     "execution_count": 7,
     "metadata": {},
     "output_type": "execute_result"
    }
   ],
   "source": [
    "data.head() # Dataset atualizado"
   ]
  },
  {
   "cell_type": "code",
   "execution_count": 8,
   "metadata": {
    "scrolled": false
   },
   "outputs": [
    {
     "data": {
      "text/plain": [
       "[('-', 895),\n",
       " (',', 770),\n",
       " ('CAPA', 650),\n",
       " ('GALAXY', 491),\n",
       " ('DE', 487),\n",
       " ('SAMSUNG', 469),\n",
       " ('E', 405),\n",
       " ('PARA', 366),\n",
       " ('COM', 277),\n",
       " ('MOTOROLA', 255)]"
      ]
     },
     "execution_count": 8,
     "metadata": {},
     "output_type": "execute_result"
    }
   ],
   "source": [
    "# Encontra os tokens mais frequentes\n",
    "\n",
    "palavras_chave = []\n",
    "for token_list in TOKENS.values():\n",
    "    for token in token_list:\n",
    "        palavras_chave.append(token)\n",
    "\n",
    "palavras_chave = nltk.FreqDist(palavras_chave)\n",
    "palavras_chave.most_common(10) # 10 Tokens mais comuns\n",
    "\n",
    "# Apos uma analise dos itens mais comuns, eh possivel identificar objetos que estao associados a smartphones\n",
    "# porem nao sao smartphones, como: capas, cabos, carregadores, bumpers e outros menos frequentes. "
   ]
  },
  {
   "cell_type": "code",
   "execution_count": 9,
   "metadata": {},
   "outputs": [],
   "source": [
    "# Transforma os tokens em valores numericos\n",
    "\n",
    "visited_tokens = []\n",
    "for i, row in data.iterrows():\n",
    "    token_list = []\n",
    "    for token in data[\"TOKENS\"][i]:\n",
    "        if token not in visited_tokens:\n",
    "            visited_tokens.append(token)\n",
    "            token_list.append(visited_tokens.index(token))\n",
    "        else:\n",
    "            token_list.append(visited_tokens.index(token))\n",
    "    data[\"TOKENS\"][i] = token_list"
   ]
  },
  {
   "cell_type": "code",
   "execution_count": 10,
   "metadata": {},
   "outputs": [],
   "source": [
    "# Gera uma matriz de dimensao (numero de produtos, total de tokens) com 0 \n",
    "# onde nao ha aquele token e 1 onde ha, para cada produto\n",
    "\n",
    "X = np.zeros((len(data), len(visited_tokens)))\n",
    "for i, row in data.iterrows():\n",
    "    for token in data[\"TOKENS\"][i]:\n",
    "        X[i,token] = 1"
   ]
  },
  {
   "cell_type": "code",
   "execution_count": 11,
   "metadata": {},
   "outputs": [],
   "source": [
    "# Roda o K means com 36 clusters\n",
    "\n",
    "kmeans = KMeans(n_clusters=int((len(X)//2)**0.5), random_state=0).fit(X)\n",
    "data[\"CATEGORY\"] = kmeans.labels_"
   ]
  },
  {
   "cell_type": "code",
   "execution_count": 12,
   "metadata": {},
   "outputs": [
    {
     "data": {
      "text/plain": [
       "2120    iPhone 8 Plus Apple RED Special Edition 64GB T...\n",
       "2121    iPhone 8 Plus Apple RED Special Edition 256GB ...\n",
       "2137    Apple Iphone 5 16gb 100% Original Promoção Imp...\n",
       "2139    Apple Iphone 5s 16gb Desbloqueado Original Ana...\n",
       "2143    Apple Iphone 6 16gb Space Gray Original Nacion...\n",
       "Name: TITLE, dtype: object"
      ]
     },
     "execution_count": 12,
     "metadata": {},
     "output_type": "execute_result"
    }
   ],
   "source": [
    "# Nesta etapa, eu olhei cada cluster manualmente e identifiquei os que se referem a smartphones\n",
    "\n",
    "smartphones = [0, 6, 7, 8, 9, 14, 15, 16, 18, 19, 28, 32, 34]\n",
    "data[\"TITLE\"][data[\"CATEGORY\"] == 0].head()"
   ]
  },
  {
   "cell_type": "code",
   "execution_count": 13,
   "metadata": {},
   "outputs": [],
   "source": [
    "# Separa novamente as categorias, porem agora somente em smartphone ou nao-smartphone\n",
    "\n",
    "for i, row in data.iterrows():\n",
    "    if data[\"CATEGORY\"][i] in smartphones:\n",
    "        data[\"CATEGORY\"][i] = 1\n",
    "    else:\n",
    "        data[\"CATEGORY\"][i] = 0"
   ]
  },
  {
   "cell_type": "code",
   "execution_count": 14,
   "metadata": {},
   "outputs": [],
   "source": [
    "# Salva os resultados em formato xlsx (excel) e csv\n",
    "\n",
    "data[[\"TITLE\",\"CATEGORY\"]].to_excel(\"resultado.xlsx\")\n",
    "data[[\"TITLE\",\"CATEGORY\"]].to_csv(\"resultado.csv\")"
   ]
  },
  {
   "cell_type": "markdown",
   "metadata": {},
   "source": [
    "# Análises Finais:\n",
    "- O número de clusteres no algortimo Kmeans influencia muito na qualidade do agrupamento, portanto, é muito provavel que uma otimização no sentido de encontrar o melhor K possível melhorasse o desempenho do algoritmo. Neste código, foi utilizada uma fórmula padronizada que encontra um K razoável dado o tamanho do dataset floor((n/2)ˆ0.5).<br><br>\n",
    "\n",
    "- Varios trechos do código deveriam ser otimizados caso o dataset fosse maior. Mesmo com esse tamanho relativamente pequeno, o código todo demora mais do que o necessário para rodar (cerca de 2 minutos).<br><br>\n",
    "\n",
    "- A abordagem que encontrei para gerar a feature utilizada no treinamento é muito ineficiente em termos de memória, pois gera uma matriz gigantesca. Em datasets maiores, provavelmente outra abordagem deveria ter sido utilizada.<br><br>\n",
    "\n",
    "- No trecho em que eu olho manualmente cada cluster identificando quais se referem a smartphones, algo deveria ser feito para tornar esse processo automático, pois é inviável realizar esse processo manualmente em datasets maiores. Além disso, caso a seed do treinamento seja alterada, a lista muda completamente e o resultado passa a não fazer mais sentido, já que a lista foi gerada manualmente. Uma solução que me veio à mente seria identificar palavras chaves relacionadas à smartphones e depois agrupar os clusters que possuem várias intâncias com tais palavras.<br><br>\n",
    "\n",
    "- Eu gostaria de ter extraído mais features do dataset, talvez as distâncias entre os tokens (exemplo: \"Celular Smartphone Xiaomi 64gb\", distancia(\"Celular\", \"Xiaomi\") == 2). Achei que o modelo ficou muito simples, mas eu não consegui pensar em uma maneira de padronizar essas features em uma só matriz de input para o algoritmo.<br><br>\n",
    "\n",
    "- Seria interessante também testar outros algoritmos, mas infelizmente ainda conheço poucos de aprendizado não-supervisionado. Pensei em talvez classificar manualmente algumas instâncias para usar algum algoritmo de aprendizado supervisionado (Naive Bayes, por exemplo), mas me pareceu que o objetivo desse teste era utilizar um algoritmo nao-supervisionado.<br><br>\n",
    "\n",
    "- Olhando o arquivo resultante, parece que o algoritmo acerta uma taxa razoável de smartphones, mas menos do que eu gostaria. Os erros são mais comuns quando o produto é um smartphone e o modelo o classifica como nao-smartphone. Há poucos ou nenhum caso onde o produto não é um smartphone e foi classificado como smartphone."
   ]
  }
 ],
 "metadata": {
  "kernelspec": {
   "display_name": "Python 3",
   "language": "python",
   "name": "python3"
  },
  "language_info": {
   "codemirror_mode": {
    "name": "ipython",
    "version": 3
   },
   "file_extension": ".py",
   "mimetype": "text/x-python",
   "name": "python",
   "nbconvert_exporter": "python",
   "pygments_lexer": "ipython3",
   "version": "3.7.1rc1"
  }
 },
 "nbformat": 4,
 "nbformat_minor": 2
}
