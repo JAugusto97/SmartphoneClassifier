{
 "cells": [
  {
   "cell_type": "code",
   "execution_count": 1,
   "metadata": {},
   "outputs": [],
   "source": [
    "import pandas as pd\n",
    "import numpy as np\n",
    "import re\n",
    "\n",
    "# Pre-processamento\n",
    "from nltk import word_tokenize\n",
    "from nltk.corpus import stopwords\n",
    "from sklearn.feature_extraction.text import CountVectorizer\n",
    "from sklearn.model_selection import cross_val_score, GridSearchCV\n",
    "\n",
    "# Classificadores\n",
    "from sklearn.naive_bayes import BernoulliNB, MultinomialNB\n",
    "from sklearn.tree import DecisionTreeClassifier\n",
    "from sklearn.svm import SVC \n",
    "from sklearn.linear_model import LogisticRegression\n",
    "\n",
    "from warnings import filterwarnings\n",
    "\n",
    "# Ignorando warnings de deprecation\n",
    "filterwarnings(action='ignore')"
   ]
  },
  {
   "cell_type": "code",
   "execution_count": 2,
   "metadata": {},
   "outputs": [],
   "source": [
    "data = pd.read_csv('data/data_estag_ds.tsv', sep='\\t')"
   ]
  },
  {
   "cell_type": "code",
   "execution_count": 3,
   "metadata": {
    "scrolled": true
   },
   "outputs": [
    {
     "data": {
      "text/html": [
       "<div>\n",
       "<style scoped>\n",
       "    .dataframe tbody tr th:only-of-type {\n",
       "        vertical-align: middle;\n",
       "    }\n",
       "\n",
       "    .dataframe tbody tr th {\n",
       "        vertical-align: top;\n",
       "    }\n",
       "\n",
       "    .dataframe thead th {\n",
       "        text-align: right;\n",
       "    }\n",
       "</style>\n",
       "<table border=\"1\" class=\"dataframe\">\n",
       "  <thead>\n",
       "    <tr style=\"text-align: right;\">\n",
       "      <th></th>\n",
       "      <th>ID</th>\n",
       "      <th>TITLE</th>\n",
       "    </tr>\n",
       "  </thead>\n",
       "  <tbody>\n",
       "    <tr>\n",
       "      <th>0</th>\n",
       "      <td>1041354</td>\n",
       "      <td>Acessório T - Jean Bag For Girls para DS Lite</td>\n",
       "    </tr>\n",
       "    <tr>\n",
       "      <th>1</th>\n",
       "      <td>1041782</td>\n",
       "      <td>Carrinho de Bebê Berço-Passeio - Pegasus Pink ...</td>\n",
       "    </tr>\n",
       "    <tr>\n",
       "      <th>2</th>\n",
       "      <td>1041834</td>\n",
       "      <td>Carrinho de Bebê para Gêmeos Berço-Passeio - T...</td>\n",
       "    </tr>\n",
       "    <tr>\n",
       "      <th>3</th>\n",
       "      <td>1042568</td>\n",
       "      <td>Car Center - Calesita</td>\n",
       "    </tr>\n",
       "    <tr>\n",
       "      <th>4</th>\n",
       "      <td>1042584</td>\n",
       "      <td>Donka Trem com Som - Calesita</td>\n",
       "    </tr>\n",
       "    <tr>\n",
       "      <th>5</th>\n",
       "      <td>1043696</td>\n",
       "      <td>Interfone HDL AZ-01 Branco</td>\n",
       "    </tr>\n",
       "    <tr>\n",
       "      <th>6</th>\n",
       "      <td>1940486</td>\n",
       "      <td>Smartphone LG Optimus L7 II Dual P716 Preto co...</td>\n",
       "    </tr>\n",
       "    <tr>\n",
       "      <th>7</th>\n",
       "      <td>2277815</td>\n",
       "      <td>Smartphone Samsung Galaxy S4 Mini Duos Preto c...</td>\n",
       "    </tr>\n",
       "    <tr>\n",
       "      <th>8</th>\n",
       "      <td>2961097</td>\n",
       "      <td>Smartphone  Samsung Galaxy S5 SM-G900M Branco ...</td>\n",
       "    </tr>\n",
       "    <tr>\n",
       "      <th>9</th>\n",
       "      <td>2961099</td>\n",
       "      <td>Smartphone  Samsung Galaxy S5 SM-G900M Dourado...</td>\n",
       "    </tr>\n",
       "  </tbody>\n",
       "</table>\n",
       "</div>"
      ],
      "text/plain": [
       "        ID                                              TITLE\n",
       "0  1041354      Acessório T - Jean Bag For Girls para DS Lite\n",
       "1  1041782  Carrinho de Bebê Berço-Passeio - Pegasus Pink ...\n",
       "2  1041834  Carrinho de Bebê para Gêmeos Berço-Passeio - T...\n",
       "3  1042568                              Car Center - Calesita\n",
       "4  1042584                      Donka Trem com Som - Calesita\n",
       "5  1043696                         Interfone HDL AZ-01 Branco\n",
       "6  1940486  Smartphone LG Optimus L7 II Dual P716 Preto co...\n",
       "7  2277815  Smartphone Samsung Galaxy S4 Mini Duos Preto c...\n",
       "8  2961097  Smartphone  Samsung Galaxy S5 SM-G900M Branco ...\n",
       "9  2961099  Smartphone  Samsung Galaxy S5 SM-G900M Dourado..."
      ]
     },
     "execution_count": 3,
     "metadata": {},
     "output_type": "execute_result"
    }
   ],
   "source": [
    "data.head(10)"
   ]
  },
  {
   "cell_type": "code",
   "execution_count": 4,
   "metadata": {},
   "outputs": [
    {
     "data": {
      "text/plain": [
       "(2606, 2)"
      ]
     },
     "execution_count": 4,
     "metadata": {},
     "output_type": "execute_result"
    }
   ],
   "source": [
    "data.shape"
   ]
  },
  {
   "cell_type": "code",
   "execution_count": 5,
   "metadata": {},
   "outputs": [],
   "source": [
    "# Removendo o atributo ID (irrelevante)\n",
    "ids = data['ID']\n",
    "data.drop(['ID'], axis=1, inplace=True)"
   ]
  },
  {
   "cell_type": "code",
   "execution_count": 6,
   "metadata": {},
   "outputs": [],
   "source": [
    "# Inicializando atributos target com 0.0\n",
    "data['SMARTPHONE'] = np.zeros((len(data)))"
   ]
  },
  {
   "cell_type": "markdown",
   "metadata": {},
   "source": [
    "# Parte 1: Anotação dos dados\n",
    "Objetivando a aplicação de um algoritmo supervisionado, foram classificados manualmente os dados entre 1.0 (Smartphone) e 0.0 (Não-Smartphone) e depois filtrados os possíveis casos indesejáveis. Tal tarefa é relativamente simples, pois os intervalos onde há smartphones são facilmente identificáveis. Caso os dados estivessem muito embaralhados e/ou o conjunto de dados fosse muito grande, outras técnicas poderiam ser usadas (i.e. clustering, regex)."
   ]
  },
  {
   "cell_type": "code",
   "execution_count": 7,
   "metadata": {},
   "outputs": [],
   "source": [
    "# Manualmente selecionando os intervalos onde existem smartphones\n",
    "data['SMARTPHONE'].iloc[6:39] = 1.0\n",
    "data['SMARTPHONE'].iloc[2035:] = 1.0\n",
    "\n",
    "# Nota: Há alguns smartwatches nesse intervalo.\n",
    "#       Além disso, pode ser que haja algum smartphone que não esteja nesse intervalo.\n",
    "#       Esses casos serão tratados a seguir"
   ]
  },
  {
   "cell_type": "code",
   "execution_count": 8,
   "metadata": {},
   "outputs": [
    {
     "name": "stdout",
     "output_type": "stream",
     "text": [
      "2207 Apple Watch Série 3 42mm Cores E Edição  Nike+ Em Estoque\n",
      "2227 Apple Watch Series 3 42mm Nike + Gps Prova D'água Lacrado\n",
      "2244 Apple Watch Series 3 42mm Gps Garantia Apple + Brinde\n",
      "2253 Relógio Samsung Gear S3 Sm-r770 Classic Wifi Bluetooth\n",
      "2288 Apple Watch Series 3  42mm Nike + Gps Prova D'água Lançameto\n",
      "2289 Apple Watch Series 3 42mm Nike +  Gps Prova D'água\n",
      "2298 Apple Watch Series 3 38mm Nike + Gps Prova D'água\n",
      "2301 Apple Watch Nike+ Séries 3 42mm Lacrado\n",
      "2302 Apple Watch Nike+ Séries 3 38mm Lacrado Novo\n",
      "2303 Apple Watch Nike+ Séries 3 38mm Lacrado\n",
      "2309 Apple Watch Series 3 38mm Nike + Gps Prova D'água Lacrado\n",
      "2314 Apple Watch Série 3 42mm Gps + 2 Pulseiras Extras\n",
      "2333 Relógio Samsung S3 Frontier + 2 Pulseiras Extras\n",
      "2345 Apple Watch Series 3 42mm Lacrado + Brinde\n",
      "2353 Apple Watch Nike+ Séries 3 42mm Lacrado + Envio Imediato\n",
      "2380 Apple Watch Series 3 38mm Lacrado Nf + Brinde\n",
      "2417 Smartwatch Samsung Gear S3 Frontier 1.3 Bluetooth - Original\n",
      "2597 Relógio Smartwatch Samsung Gear Sm-r800 46mm Cinza\n"
     ]
    }
   ],
   "source": [
    "# Casos de Smartwatches classificados como 1.0\n",
    "for i, example in data[data['SMARTPHONE'] == 1.0]['TITLE'].iteritems():\n",
    "    if re.findall('watch|rel[ó|o]gio', example.lower()):\n",
    "        print(i, example)\n",
    "        data['SMARTPHONE'].iloc[i] = 0.0"
   ]
  },
  {
   "cell_type": "code",
   "execution_count": 9,
   "metadata": {
    "scrolled": true
   },
   "outputs": [
    {
     "name": "stdout",
     "output_type": "stream",
     "text": [
      "548 Celular Multilaser Up- Branco/Rosa\n",
      "775 Celular Blu Samba Jr Q53 Prata Dual Chip Silver\n",
      "1886 Celular Up 2chip Quad Cam Mp3/4 Fm Branco/Rosa\n",
      "1892 Smartphone Samsung Galaxy J2 Prime TV Dourado com 8GB, Dual chip, Tela 5\", TV Digital, 4G, Câmera 8MP, Android 6.0 e Processador Quad Core de 1.4 Ghz\n",
      "1893 Smartphone Samsung Galaxy J2 Prime TV Preto com 8GB, Dual chip, Tela 5\", TV Digital, 4G, Câmera 8MP, Android 6.0 e Processador Quad Core de 1.4 Ghz\n"
     ]
    }
   ],
   "source": [
    "# Casos de smartphones classificados como 0.0\n",
    "for i, example in data[data['SMARTPHONE'] == 0.0]['TITLE'].iteritems():\n",
    "    if re.findall('^smartphone|^celular', example.lower()):\n",
    "        print(i, example)\n",
    "        \n",
    "# Somente 2 casos\n",
    "data['SMARTPHONE'].iloc[1892:1894] = 1.0\n",
    "\n",
    "# Nota: Foram encontrados alguns celulares, mas que não são smartphones. Estes foram desconsiderados."
   ]
  },
  {
   "cell_type": "code",
   "execution_count": 10,
   "metadata": {},
   "outputs": [
    {
     "data": {
      "text/plain": [
       "0.0    2018\n",
       "1.0     588\n",
       "Name: SMARTPHONE, dtype: int64"
      ]
     },
     "execution_count": 10,
     "metadata": {},
     "output_type": "execute_result"
    }
   ],
   "source": [
    "data['SMARTPHONE'].value_counts()"
   ]
  },
  {
   "cell_type": "code",
   "execution_count": 11,
   "metadata": {},
   "outputs": [
    {
     "data": {
      "text/plain": [
       "0.2256331542594014"
      ]
     },
     "execution_count": 11,
     "metadata": {},
     "output_type": "execute_result"
    }
   ],
   "source": [
    "data['SMARTPHONE'].mean()\n",
    "# Classes estão desbalanceadas"
   ]
  },
  {
   "cell_type": "markdown",
   "metadata": {},
   "source": [
    "# Parte 2: Pré-processamento\n",
    "Nessa etapa serão feitos processos para normalizar os dados. Serão removidas stopwords, todas as palavras serão transformadas em representações de letras minúsculas e então será feita tokenização e bag of words."
   ]
  },
  {
   "cell_type": "code",
   "execution_count": 12,
   "metadata": {},
   "outputs": [],
   "source": [
    "# Adicionando pontuações às stopwords em português\n",
    "pontuacoes = ['-', '.', ',', '(', ')']\n",
    "pt_stopwords = stopwords.words('portuguese')\n",
    "\n",
    "for pontuacao in pontuacoes:\n",
    "    pt_stopwords.append(pontuacao)"
   ]
  },
  {
   "cell_type": "code",
   "execution_count": 13,
   "metadata": {},
   "outputs": [],
   "source": [
    "# CountVectorizer remove os stopwords, tokeniza e obtem bag of words\n",
    "vect = CountVectorizer(stop_words=pt_stopwords)\n",
    "vect = CountVectorizer().fit(data['TITLE'])\n",
    "\n",
    "data_vect = vect.transform(data['TITLE'])"
   ]
  },
  {
   "cell_type": "code",
   "execution_count": 14,
   "metadata": {},
   "outputs": [
    {
     "data": {
      "text/plain": [
       "<2606x4165 sparse matrix of type '<class 'numpy.int64'>'\n",
       "\twith 21947 stored elements in Compressed Sparse Row format>"
      ]
     },
     "execution_count": 14,
     "metadata": {},
     "output_type": "execute_result"
    }
   ],
   "source": [
    "data_vect"
   ]
  },
  {
   "cell_type": "markdown",
   "metadata": {},
   "source": [
    "# Parte 3: Seleção do Modelo e Validação\n",
    "Será utilizado Grid Search para encontrar os melhores parâmetros para cada classificador. O GS tem 5 folds de cross validation, método de avaliação f1 (pois as classes estão desbalanceadas) e é feita paralelização em 4 threads. Os classificadores escolhidos para a tarefa foram:\n",
    "\n",
    "### SVM:\n",
    "- Funciona bem em dados com alta dimensão e poucos exemplos (dataset está com 2606 linhas e 4165 colunas);\n",
    "- Variando parâmetros C e gamma.\n",
    "\n",
    "### Regressão Logística:\n",
    "- Modelo simples e eficiente;\n",
    "- Variando penalidades l1 e l2 e o parâmetro C.\n",
    "\n",
    "### Bernoulli:\n",
    "- Naive Bayes de representação binária;\n",
    "- Variando constante de suavização de laplace.\n",
    "\n",
    "### Multinomial:\n",
    "- Naive Bayes para representação de múltiplas ocorrências;\n",
    "- Variando constante de suavização de laplace."
   ]
  },
  {
   "cell_type": "code",
   "execution_count": 15,
   "metadata": {},
   "outputs": [],
   "source": [
    "# Definindo os parâmetros a serem selecionados para cada classificador\n",
    "SVM = {'name': 'svm',\n",
    "       'classifier': SVC(),\n",
    "       'parameters': {'kernel': ['linear'],\n",
    "       'C': [0.1, 1.0, 5, 10, 15],\n",
    "       'gamma': [0.01, 0.1, 1.0, 5.0, 10],}}\n",
    "\n",
    "Logistic = {'name': 'logistic_regression',\n",
    "       'classifier': LogisticRegression(),\n",
    "       'parameters': {'penalty': ['l1', 'l2'],\n",
    "                      'C': [0.01, 0.1, 1.0, 5.0, 10],\n",
    "                      'solver': ['liblinear']}}\n",
    "\n",
    "Bernoulli = {'name': 'bernoulli_naive_bayes',\n",
    "             'classifier': BernoulliNB(),\n",
    "             'parameters': {'alpha': [1.0, 2.0, 5.0]}}\n",
    "            \n",
    "Multinomial = {'name': 'multinomial_naive_bayes',\n",
    "               'classifier': MultinomialNB(),\n",
    "               'parameters': {'alpha': [1.0, 2.0, 5.0]}}\n",
    "\n",
    "classificadores = [SVM, Logistic, Bernoulli, Multinomial]"
   ]
  },
  {
   "cell_type": "code",
   "execution_count": 16,
   "metadata": {
    "scrolled": true
   },
   "outputs": [],
   "source": [
    "# Encontra os melhores parâmetros para cada classificador\n",
    "\n",
    "modelos = {}\n",
    "for classificador in classificadores:\n",
    "    gs = GridSearchCV(estimator=classificador['classifier'],\n",
    "                                param_grid=classificador['parameters'],\n",
    "                                scoring='f1',\n",
    "                                verbose=0,\n",
    "                                cv=5,\n",
    "                                n_jobs=4)\n",
    "\n",
    "    gs.fit(data_vect, data['SMARTPHONE'])\n",
    "    modelos[classificador['name']] = gs.best_estimator_"
   ]
  },
  {
   "cell_type": "code",
   "execution_count": 17,
   "metadata": {},
   "outputs": [
    {
     "name": "stdout",
     "output_type": "stream",
     "text": [
      "svm: 0.9820169917387778\n",
      "logistic_regression: 0.9835542996094679\n",
      "bernoulli_naive_bayes: 0.9485674493873768\n",
      "multinomial_naive_bayes: 0.9203615982819263\n"
     ]
    }
   ],
   "source": [
    "# Avaliação usando cross validation score\n",
    "resultados = {}\n",
    "for nome, modelo in modelos.items():\n",
    "    resultados[nome] = np.mean(cross_val_score(modelo,\n",
    "                                            data_vect,\n",
    "                                            data['SMARTPHONE'],\n",
    "                                            cv=5,\n",
    "                                            scoring='f1'))\n",
    "    \n",
    "for nome, resultado in resultados.items():\n",
    "    print(nome+':', resultado)\n",
    "    \n",
    "# Regressor Logístico > SVM > BernoulliNB > MultinomialNB"
   ]
  },
  {
   "cell_type": "code",
   "execution_count": 18,
   "metadata": {},
   "outputs": [
    {
     "data": {
      "text/plain": [
       "array(['1sim', '6gb', 'mini', 'xt1676', 'j5', 'g6', 'indigo', 'j810m',\n",
       "       'orig', '20mp', 'câmera', 'g570m', 'j8', 'g5', 'duro', 'termica',\n",
       "       'queda', 'na', 'xperia', 'pronta', 'leitor', 'grátis', '3gb',\n",
       "       'entrega', 'no', 'grafite', 'pocket', 'a1', '2017', 'digital',\n",
       "       'test', 'nuevo', 'ofertar', 'item', 'sim', 'frete', 'processador',\n",
       "       '32', 's5', 'duos', 'promoção', '4gb', 'ano', 'android', 'tv',\n",
       "       'j400m', 'j4', 's60', 'caterpillar', 'cat', 'k10', 'play', 'redmi',\n",
       "       'e5', 'global', 'chip', 'apple', 'samsung', 'desbloqueado',\n",
       "       '128gb', 'lg', 'xt1726', 'mi', 'fiscal', 'ram', '8mp', 'nf',\n",
       "       'garantia', 'prime', 'nota', '8gb', 'moto', '3g', 'gb', 'j7',\n",
       "       'ferrari', 'anatel', 'novo', 'vitrine', 'dual', 'nextel',\n",
       "       'dourado', '4g', 'lacrado', 'g800h', '16gb', 'tela', 'plus',\n",
       "       'original', 'xiaomi', '256gb', 'celular', 's9', 'galaxy',\n",
       "       'motorola', 'smartphone', 'i867', 'iphone', '32gb', '64gb'],\n",
       "      dtype='<U23')"
      ]
     },
     "execution_count": 18,
     "metadata": {},
     "output_type": "execute_result"
    }
   ],
   "source": [
    "# 100 principais features associadas a smartphones\n",
    "feature_names = np.array(vect.get_feature_names())\n",
    "coefs_sorted = modelos['logistic_regression'].coef_[0].argsort()\n",
    "feature_names[coefs_sorted][-100:]"
   ]
  },
  {
   "cell_type": "code",
   "execution_count": 19,
   "metadata": {},
   "outputs": [
    {
     "data": {
      "text/plain": [
       "array(['capa', 'bumper', 'bracadeira', 'para', 'película', 'vidro', 'tab',\n",
       "       'rosa', 'kit', 'watch', 'tablet', 'tpu', 'p355m', 'azul',\n",
       "       'transparente', 'vermelho', 'pc', 'de', 'bumber', 's3', '5mp',\n",
       "       'fonte', 'series', '38mm', 'pelicula', 'em', 'protetora',\n",
       "       'shampoo', 'preta', 'único', 'capapelicula', 'pingente', '4s',\n",
       "       'ero', 'laço', 'cabo', 'papel', 'do', 'silver', 'nike', 's6102',\n",
       "       's4', 'samba', 'jr', 'q53', 'carregador', 'flip', 'ml', 'blu',\n",
       "       'cm', 'ciabrink', 'premium', 'dados', 'couro', 'séries', '42mm',\n",
       "       'core', 'pulseira', 'amarelo', 'ghz', 'violão', 'sm', 'infantil',\n",
       "       'temperado', 'litocart', 'branco', 'mirror', 'usb', 'black',\n",
       "       'adesivo', 'madeira', 'espelhamento', 'au906', 'cast', 'esportiva',\n",
       "       'batom', 'verde', 'micro', 'vgn', 'veicular', 'adaptador',\n",
       "       'braçadeira', 'idea', 'gps', '5c', 'tracta', 'whey', 'exclusiva',\n",
       "       'personalizada', 'branca', 'ddr3', 'com', 'suporte', 'coração',\n",
       "       'botão', 'ipad', 'orthopauher', 'gel', 'toke', 'crie'],\n",
       "      dtype='<U23')"
      ]
     },
     "execution_count": 19,
     "metadata": {},
     "output_type": "execute_result"
    }
   ],
   "source": [
    "# 100 principais features associadas a não-smartphones\n",
    "feature_names[coefs_sorted][:100]"
   ]
  },
  {
   "cell_type": "markdown",
   "metadata": {},
   "source": [
    "# Parte 4: Classificação\n",
    "Aplicação do melhor modelo encontrado e salvamento do resultado."
   ]
  },
  {
   "cell_type": "code",
   "execution_count": 20,
   "metadata": {},
   "outputs": [],
   "source": [
    "data = pd.read_csv('data/data_estag_ds.tsv', sep='\\t')"
   ]
  },
  {
   "cell_type": "code",
   "execution_count": 21,
   "metadata": {
    "scrolled": true
   },
   "outputs": [
    {
     "data": {
      "text/html": [
       "<div>\n",
       "<style scoped>\n",
       "    .dataframe tbody tr th:only-of-type {\n",
       "        vertical-align: middle;\n",
       "    }\n",
       "\n",
       "    .dataframe tbody tr th {\n",
       "        vertical-align: top;\n",
       "    }\n",
       "\n",
       "    .dataframe thead th {\n",
       "        text-align: right;\n",
       "    }\n",
       "</style>\n",
       "<table border=\"1\" class=\"dataframe\">\n",
       "  <thead>\n",
       "    <tr style=\"text-align: right;\">\n",
       "      <th></th>\n",
       "      <th>ID</th>\n",
       "      <th>TITLE</th>\n",
       "    </tr>\n",
       "  </thead>\n",
       "  <tbody>\n",
       "    <tr>\n",
       "      <th>0</th>\n",
       "      <td>1041354</td>\n",
       "      <td>Acessório T - Jean Bag For Girls para DS Lite</td>\n",
       "    </tr>\n",
       "    <tr>\n",
       "      <th>1</th>\n",
       "      <td>1041782</td>\n",
       "      <td>Carrinho de Bebê Berço-Passeio - Pegasus Pink ...</td>\n",
       "    </tr>\n",
       "    <tr>\n",
       "      <th>2</th>\n",
       "      <td>1041834</td>\n",
       "      <td>Carrinho de Bebê para Gêmeos Berço-Passeio - T...</td>\n",
       "    </tr>\n",
       "    <tr>\n",
       "      <th>3</th>\n",
       "      <td>1042568</td>\n",
       "      <td>Car Center - Calesita</td>\n",
       "    </tr>\n",
       "    <tr>\n",
       "      <th>4</th>\n",
       "      <td>1042584</td>\n",
       "      <td>Donka Trem com Som - Calesita</td>\n",
       "    </tr>\n",
       "    <tr>\n",
       "      <th>5</th>\n",
       "      <td>1043696</td>\n",
       "      <td>Interfone HDL AZ-01 Branco</td>\n",
       "    </tr>\n",
       "    <tr>\n",
       "      <th>6</th>\n",
       "      <td>1940486</td>\n",
       "      <td>Smartphone LG Optimus L7 II Dual P716 Preto co...</td>\n",
       "    </tr>\n",
       "    <tr>\n",
       "      <th>7</th>\n",
       "      <td>2277815</td>\n",
       "      <td>Smartphone Samsung Galaxy S4 Mini Duos Preto c...</td>\n",
       "    </tr>\n",
       "    <tr>\n",
       "      <th>8</th>\n",
       "      <td>2961097</td>\n",
       "      <td>Smartphone  Samsung Galaxy S5 SM-G900M Branco ...</td>\n",
       "    </tr>\n",
       "    <tr>\n",
       "      <th>9</th>\n",
       "      <td>2961099</td>\n",
       "      <td>Smartphone  Samsung Galaxy S5 SM-G900M Dourado...</td>\n",
       "    </tr>\n",
       "  </tbody>\n",
       "</table>\n",
       "</div>"
      ],
      "text/plain": [
       "        ID                                              TITLE\n",
       "0  1041354      Acessório T - Jean Bag For Girls para DS Lite\n",
       "1  1041782  Carrinho de Bebê Berço-Passeio - Pegasus Pink ...\n",
       "2  1041834  Carrinho de Bebê para Gêmeos Berço-Passeio - T...\n",
       "3  1042568                              Car Center - Calesita\n",
       "4  1042584                      Donka Trem com Som - Calesita\n",
       "5  1043696                         Interfone HDL AZ-01 Branco\n",
       "6  1940486  Smartphone LG Optimus L7 II Dual P716 Preto co...\n",
       "7  2277815  Smartphone Samsung Galaxy S4 Mini Duos Preto c...\n",
       "8  2961097  Smartphone  Samsung Galaxy S5 SM-G900M Branco ...\n",
       "9  2961099  Smartphone  Samsung Galaxy S5 SM-G900M Dourado..."
      ]
     },
     "execution_count": 21,
     "metadata": {},
     "output_type": "execute_result"
    }
   ],
   "source": [
    "data.head(10)"
   ]
  },
  {
   "cell_type": "code",
   "execution_count": 22,
   "metadata": {},
   "outputs": [],
   "source": [
    "vect = CountVectorizer(stop_words=pt_stopwords)\n",
    "X = CountVectorizer().fit_transform(data['TITLE'])\n",
    "y = modelos['logistic_regression'].predict(X)"
   ]
  },
  {
   "cell_type": "code",
   "execution_count": 23,
   "metadata": {},
   "outputs": [],
   "source": [
    "data['SMARTPHONE'] = y"
   ]
  },
  {
   "cell_type": "code",
   "execution_count": 24,
   "metadata": {},
   "outputs": [],
   "source": [
    "data.to_csv('data/resultados.tsv', sep='\\t')"
   ]
  }
 ],
 "metadata": {
  "kernelspec": {
   "display_name": "Python 3",
   "language": "python",
   "name": "python3"
  },
  "language_info": {
   "codemirror_mode": {
    "name": "ipython",
    "version": 3
   },
   "file_extension": ".py",
   "mimetype": "text/x-python",
   "name": "python",
   "nbconvert_exporter": "python",
   "pygments_lexer": "ipython3",
   "version": "3.6.5"
  }
 },
 "nbformat": 4,
 "nbformat_minor": 2
}
