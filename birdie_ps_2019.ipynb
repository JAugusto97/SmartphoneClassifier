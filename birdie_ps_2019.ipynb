{
 "cells": [
  {
   "cell_type": "code",
   "execution_count": 1,
   "metadata": {},
   "outputs": [],
   "source": [
    "import pandas as pd\n",
    "import numpy as np\n",
    "import re\n",
    "\n",
    "# Pre-processamento\n",
    "from nltk import word_tokenize\n",
    "from nltk.corpus import stopwords\n",
    "from sklearn.feature_extraction.text import CountVectorizer\n",
    "from sklearn.model_selection import cross_val_score, GridSearchCV, train_test_split\n",
    "\n",
    "# Classificadores\n",
    "from sklearn.naive_bayes import BernoulliNB, MultinomialNB\n",
    "from sklearn.tree import DecisionTreeClassifier\n",
    "from sklearn.svm import SVC \n",
    "from sklearn.linear_model import LogisticRegression\n",
    "\n",
    "from warnings import filterwarnings\n",
    "\n",
    "# Ignorando warnings de deprecation\n",
    "filterwarnings(action='ignore')"
   ]
  },
  {
   "cell_type": "code",
   "execution_count": 2,
   "metadata": {},
   "outputs": [],
   "source": [
    "data = pd.read_csv('data/data_estag_ds.tsv', sep='\\t')"
   ]
  },
  {
   "cell_type": "code",
   "execution_count": 3,
   "metadata": {
    "scrolled": true
   },
   "outputs": [
    {
     "data": {
      "text/html": [
       "<div>\n",
       "<style scoped>\n",
       "    .dataframe tbody tr th:only-of-type {\n",
       "        vertical-align: middle;\n",
       "    }\n",
       "\n",
       "    .dataframe tbody tr th {\n",
       "        vertical-align: top;\n",
       "    }\n",
       "\n",
       "    .dataframe thead th {\n",
       "        text-align: right;\n",
       "    }\n",
       "</style>\n",
       "<table border=\"1\" class=\"dataframe\">\n",
       "  <thead>\n",
       "    <tr style=\"text-align: right;\">\n",
       "      <th></th>\n",
       "      <th>ID</th>\n",
       "      <th>TITLE</th>\n",
       "    </tr>\n",
       "  </thead>\n",
       "  <tbody>\n",
       "    <tr>\n",
       "      <th>0</th>\n",
       "      <td>1041354</td>\n",
       "      <td>Acessório T - Jean Bag For Girls para DS Lite</td>\n",
       "    </tr>\n",
       "    <tr>\n",
       "      <th>1</th>\n",
       "      <td>1041782</td>\n",
       "      <td>Carrinho de Bebê Berço-Passeio - Pegasus Pink ...</td>\n",
       "    </tr>\n",
       "    <tr>\n",
       "      <th>2</th>\n",
       "      <td>1041834</td>\n",
       "      <td>Carrinho de Bebê para Gêmeos Berço-Passeio - T...</td>\n",
       "    </tr>\n",
       "    <tr>\n",
       "      <th>3</th>\n",
       "      <td>1042568</td>\n",
       "      <td>Car Center - Calesita</td>\n",
       "    </tr>\n",
       "    <tr>\n",
       "      <th>4</th>\n",
       "      <td>1042584</td>\n",
       "      <td>Donka Trem com Som - Calesita</td>\n",
       "    </tr>\n",
       "    <tr>\n",
       "      <th>5</th>\n",
       "      <td>1043696</td>\n",
       "      <td>Interfone HDL AZ-01 Branco</td>\n",
       "    </tr>\n",
       "    <tr>\n",
       "      <th>6</th>\n",
       "      <td>1940486</td>\n",
       "      <td>Smartphone LG Optimus L7 II Dual P716 Preto co...</td>\n",
       "    </tr>\n",
       "    <tr>\n",
       "      <th>7</th>\n",
       "      <td>2277815</td>\n",
       "      <td>Smartphone Samsung Galaxy S4 Mini Duos Preto c...</td>\n",
       "    </tr>\n",
       "    <tr>\n",
       "      <th>8</th>\n",
       "      <td>2961097</td>\n",
       "      <td>Smartphone  Samsung Galaxy S5 SM-G900M Branco ...</td>\n",
       "    </tr>\n",
       "    <tr>\n",
       "      <th>9</th>\n",
       "      <td>2961099</td>\n",
       "      <td>Smartphone  Samsung Galaxy S5 SM-G900M Dourado...</td>\n",
       "    </tr>\n",
       "  </tbody>\n",
       "</table>\n",
       "</div>"
      ],
      "text/plain": [
       "        ID                                              TITLE\n",
       "0  1041354      Acessório T - Jean Bag For Girls para DS Lite\n",
       "1  1041782  Carrinho de Bebê Berço-Passeio - Pegasus Pink ...\n",
       "2  1041834  Carrinho de Bebê para Gêmeos Berço-Passeio - T...\n",
       "3  1042568                              Car Center - Calesita\n",
       "4  1042584                      Donka Trem com Som - Calesita\n",
       "5  1043696                         Interfone HDL AZ-01 Branco\n",
       "6  1940486  Smartphone LG Optimus L7 II Dual P716 Preto co...\n",
       "7  2277815  Smartphone Samsung Galaxy S4 Mini Duos Preto c...\n",
       "8  2961097  Smartphone  Samsung Galaxy S5 SM-G900M Branco ...\n",
       "9  2961099  Smartphone  Samsung Galaxy S5 SM-G900M Dourado..."
      ]
     },
     "execution_count": 3,
     "metadata": {},
     "output_type": "execute_result"
    }
   ],
   "source": [
    "data.head(10)"
   ]
  },
  {
   "cell_type": "code",
   "execution_count": 4,
   "metadata": {
    "scrolled": true
   },
   "outputs": [
    {
     "data": {
      "text/plain": [
       "(2606, 2)"
      ]
     },
     "execution_count": 4,
     "metadata": {},
     "output_type": "execute_result"
    }
   ],
   "source": [
    "data.shape"
   ]
  },
  {
   "cell_type": "code",
   "execution_count": 5,
   "metadata": {},
   "outputs": [],
   "source": [
    "# Removendo o atributo ID (irrelevante)\n",
    "ids = data['ID']\n",
    "data.drop(['ID'], axis=1, inplace=True)"
   ]
  },
  {
   "cell_type": "code",
   "execution_count": 6,
   "metadata": {},
   "outputs": [],
   "source": [
    "# Inicializando atributos target com 0.0\n",
    "data['SMARTPHONE'] = np.zeros((len(data)))"
   ]
  },
  {
   "cell_type": "markdown",
   "metadata": {},
   "source": [
    "# Parte 1: Anotação dos dados\n",
    "Objetivando a aplicação de um algoritmo supervisionado, foram classificados manualmente os dados entre 1.0 (Smartphone) e 0.0 (Não-Smartphone) e depois filtrados os possíveis casos indesejáveis. Tal tarefa é relativamente simples, pois os intervalos onde há smartphones são facilmente identificáveis. Caso os dados estivessem muito embaralhados e/ou o conjunto de dados fosse muito grande, outras técnicas poderiam ser usadas (i.e. clustering, regex)."
   ]
  },
  {
   "cell_type": "code",
   "execution_count": 7,
   "metadata": {},
   "outputs": [],
   "source": [
    "# Manualmente selecionando os intervalos onde existem smartphones\n",
    "data['SMARTPHONE'].iloc[6:39] = 1.0\n",
    "data['SMARTPHONE'].iloc[2035:] = 1.0\n",
    "\n",
    "# Nota: Há alguns smartwatches nesse intervalo.\n",
    "#       Além disso, pode ser que haja algum smartphone que não esteja nesse intervalo.\n",
    "#       Esses casos serão tratados a seguir"
   ]
  },
  {
   "cell_type": "code",
   "execution_count": 8,
   "metadata": {},
   "outputs": [
    {
     "name": "stdout",
     "output_type": "stream",
     "text": [
      "2207 Apple Watch Série 3 42mm Cores E Edição  Nike+ Em Estoque\n",
      "2227 Apple Watch Series 3 42mm Nike + Gps Prova D'água Lacrado\n",
      "2244 Apple Watch Series 3 42mm Gps Garantia Apple + Brinde\n",
      "2253 Relógio Samsung Gear S3 Sm-r770 Classic Wifi Bluetooth\n",
      "2288 Apple Watch Series 3  42mm Nike + Gps Prova D'água Lançameto\n",
      "2289 Apple Watch Series 3 42mm Nike +  Gps Prova D'água\n",
      "2298 Apple Watch Series 3 38mm Nike + Gps Prova D'água\n",
      "2301 Apple Watch Nike+ Séries 3 42mm Lacrado\n",
      "2302 Apple Watch Nike+ Séries 3 38mm Lacrado Novo\n",
      "2303 Apple Watch Nike+ Séries 3 38mm Lacrado\n",
      "2309 Apple Watch Series 3 38mm Nike + Gps Prova D'água Lacrado\n",
      "2314 Apple Watch Série 3 42mm Gps + 2 Pulseiras Extras\n",
      "2333 Relógio Samsung S3 Frontier + 2 Pulseiras Extras\n",
      "2345 Apple Watch Series 3 42mm Lacrado + Brinde\n",
      "2353 Apple Watch Nike+ Séries 3 42mm Lacrado + Envio Imediato\n",
      "2380 Apple Watch Series 3 38mm Lacrado Nf + Brinde\n",
      "2417 Smartwatch Samsung Gear S3 Frontier 1.3 Bluetooth - Original\n",
      "2597 Relógio Smartwatch Samsung Gear Sm-r800 46mm Cinza\n"
     ]
    }
   ],
   "source": [
    "# Casos de Smartwatches classificados como 1.0\n",
    "for i, example in data[data['SMARTPHONE'] == 1.0]['TITLE'].iteritems():\n",
    "    if re.findall('watch|rel[ó|o]gio', example.lower()):\n",
    "        print(i, example)\n",
    "        data['SMARTPHONE'].iloc[i] = 0.0"
   ]
  },
  {
   "cell_type": "code",
   "execution_count": 9,
   "metadata": {
    "scrolled": true
   },
   "outputs": [
    {
     "name": "stdout",
     "output_type": "stream",
     "text": [
      "548 Celular Multilaser Up- Branco/Rosa\n",
      "775 Celular Blu Samba Jr Q53 Prata Dual Chip Silver\n",
      "1886 Celular Up 2chip Quad Cam Mp3/4 Fm Branco/Rosa\n",
      "1892 Smartphone Samsung Galaxy J2 Prime TV Dourado com 8GB, Dual chip, Tela 5\", TV Digital, 4G, Câmera 8MP, Android 6.0 e Processador Quad Core de 1.4 Ghz\n",
      "1893 Smartphone Samsung Galaxy J2 Prime TV Preto com 8GB, Dual chip, Tela 5\", TV Digital, 4G, Câmera 8MP, Android 6.0 e Processador Quad Core de 1.4 Ghz\n"
     ]
    }
   ],
   "source": [
    "# Casos de smartphones classificados como 0.0\n",
    "for i, example in data[data['SMARTPHONE'] == 0.0]['TITLE'].iteritems():\n",
    "    if re.findall('^smartphone|^celular', example.lower()):\n",
    "        print(i, example)\n",
    "        \n",
    "# Somente 2 casos\n",
    "data['SMARTPHONE'].iloc[1892:1894] = 1.0\n",
    "\n",
    "# Nota: Foram encontrados alguns celulares, mas que não são smartphones. Estes foram desconsiderados."
   ]
  },
  {
   "cell_type": "code",
   "execution_count": 10,
   "metadata": {},
   "outputs": [
    {
     "data": {
      "text/plain": [
       "0.0    2018\n",
       "1.0     588\n",
       "Name: SMARTPHONE, dtype: int64"
      ]
     },
     "execution_count": 10,
     "metadata": {},
     "output_type": "execute_result"
    }
   ],
   "source": [
    "data['SMARTPHONE'].value_counts()"
   ]
  },
  {
   "cell_type": "code",
   "execution_count": 11,
   "metadata": {},
   "outputs": [
    {
     "data": {
      "text/plain": [
       "0.2256331542594014"
      ]
     },
     "execution_count": 11,
     "metadata": {},
     "output_type": "execute_result"
    }
   ],
   "source": [
    "data['SMARTPHONE'].mean()\n",
    "# Classes estão desbalanceadas"
   ]
  },
  {
   "cell_type": "markdown",
   "metadata": {},
   "source": [
    "# Parte 2: Pré-processamento\n",
    "Nessa etapa serão feitos processos para normalizar os dados. Serão removidas stopwords, todas as palavras serão transformadas em representações de letras minúsculas e então será feita tokenização e bag of words."
   ]
  },
  {
   "cell_type": "code",
   "execution_count": 12,
   "metadata": {},
   "outputs": [],
   "source": [
    "# Adicionando pontuações às stopwords em português\n",
    "pontuacoes = ['-', '.', ',', '(', ')']\n",
    "pt_stopwords = stopwords.words('portuguese')\n",
    "\n",
    "for pontuacao in pontuacoes:\n",
    "    pt_stopwords.append(pontuacao)"
   ]
  },
  {
   "cell_type": "code",
   "execution_count": 13,
   "metadata": {},
   "outputs": [],
   "source": [
    "# CountVectorizer remove os stopwords, tokeniza e obtem bag of words\n",
    "vect = CountVectorizer(stop_words=pt_stopwords)\n",
    "vect = CountVectorizer().fit(data['TITLE'])\n",
    "\n",
    "data_vect = vect.transform(data['TITLE'])"
   ]
  },
  {
   "cell_type": "code",
   "execution_count": 14,
   "metadata": {},
   "outputs": [
    {
     "data": {
      "text/plain": [
       "<2606x4165 sparse matrix of type '<class 'numpy.int64'>'\n",
       "\twith 21947 stored elements in Compressed Sparse Row format>"
      ]
     },
     "execution_count": 14,
     "metadata": {},
     "output_type": "execute_result"
    }
   ],
   "source": [
    "data_vect"
   ]
  },
  {
   "cell_type": "markdown",
   "metadata": {},
   "source": [
    "# Parte 3: Seleção do Modelo e Validação\n",
    "Será utilizado Grid Search para encontrar os melhores parâmetros para cada classificador. O GS tem 5 folds de cross validation, método de avaliação f1 (pois as classes estão desbalanceadas) e é feita paralelização em 4 threads. Os classificadores escolhidos para a tarefa foram:\n",
    "\n",
    "### SVM:\n",
    "- Funciona bem em dados com alta dimensão e poucos exemplos (dataset está com 2606 linhas e 4165 colunas);\n",
    "- Variando parâmetros C e gamma.\n",
    "\n",
    "### Regressão Logística:\n",
    "- Modelo simples e eficiente;\n",
    "- Variando penalidades l1 e l2 e o parâmetro C.\n",
    "\n",
    "### Bernoulli:\n",
    "- Naive Bayes de representação binária;\n",
    "- Variando constante de suavização de laplace.\n",
    "\n",
    "### Multinomial:\n",
    "- Naive Bayes para representação de múltiplas ocorrências;\n",
    "- Variando constante de suavização de laplace."
   ]
  },
  {
   "cell_type": "code",
   "execution_count": 15,
   "metadata": {},
   "outputs": [],
   "source": [
    "# Definindo os parâmetros a serem selecionados para cada classificador\n",
    "SVM = {'name': 'svm',\n",
    "       'classifier': SVC(),\n",
    "       'parameters': {'kernel': ['linear'],\n",
    "       'C': [0.1, 1.0, 5, 10, 15],\n",
    "       'gamma': [0.01, 0.1, 1.0, 5.0, 10],}}\n",
    "\n",
    "Logistic = {'name': 'logistic_regression',\n",
    "       'classifier': LogisticRegression(),\n",
    "       'parameters': {'penalty': ['l1', 'l2'],\n",
    "                      'C': [0.01, 0.1, 1.0, 5.0, 10],\n",
    "                      'solver': ['liblinear']}}\n",
    "\n",
    "Bernoulli = {'name': 'bernoulli_naive_bayes',\n",
    "             'classifier': BernoulliNB(),\n",
    "             'parameters': {'alpha': [1.0, 2.0, 5.0]}}\n",
    "            \n",
    "Multinomial = {'name': 'multinomial_naive_bayes',\n",
    "               'classifier': MultinomialNB(),\n",
    "               'parameters': {'alpha': [1.0, 2.0, 5.0]}}\n",
    "\n",
    "classificadores = [SVM, Logistic, Bernoulli, Multinomial]"
   ]
  },
  {
   "cell_type": "code",
   "execution_count": 16,
   "metadata": {
    "scrolled": true
   },
   "outputs": [],
   "source": [
    "# Encontra os melhores parâmetros para cada classificador\n",
    "\n",
    "modelos = {}\n",
    "for classificador in classificadores:\n",
    "    gs = GridSearchCV(estimator=classificador['classifier'],\n",
    "                                param_grid=classificador['parameters'],\n",
    "                                scoring='f1',\n",
    "                                verbose=0,\n",
    "                                cv=5,\n",
    "                                n_jobs=4)\n",
    "\n",
    "    gs.fit(data_vect, data['SMARTPHONE'])\n",
    "    modelos[classificador['name']] = gs.best_estimator_"
   ]
  },
  {
   "cell_type": "code",
   "execution_count": 17,
   "metadata": {},
   "outputs": [
    {
     "name": "stdout",
     "output_type": "stream",
     "text": [
      "svm: 0.9820169917387778\n",
      "logistic_regression: 0.9835542996094679\n",
      "bernoulli_naive_bayes: 0.9485674493873768\n",
      "multinomial_naive_bayes: 0.9203615982819263\n"
     ]
    }
   ],
   "source": [
    "# Avaliação usando cross validation score\n",
    "resultados = {}\n",
    "for nome, modelo in modelos.items():\n",
    "    resultados[nome] = np.mean(cross_val_score(modelo,\n",
    "                                            data_vect,\n",
    "                                            data['SMARTPHONE'],\n",
    "                                            cv=5,\n",
    "                                            scoring='f1'))\n",
    "    \n",
    "for nome, resultado in resultados.items():\n",
    "    print(nome+':', resultado)\n",
    "    \n",
    "# Regressor Logístico > SVM > BernoulliNB > MultinomialNB"
   ]
  },
  {
   "cell_type": "code",
   "execution_count": 18,
   "metadata": {},
   "outputs": [
    {
     "data": {
      "text/plain": [
       "array(['1sim', '6gb', 'mini', 'xt1676', 'j5', 'g6', 'indigo', 'j810m',\n",
       "       'orig', '20mp', 'câmera', 'g570m', 'j8', 'g5', 'duro', 'termica',\n",
       "       'queda', 'na', 'xperia', 'pronta', 'leitor', 'grátis', '3gb',\n",
       "       'entrega', 'no', 'grafite', 'pocket', 'a1', '2017', 'digital',\n",
       "       'test', 'nuevo', 'ofertar', 'item', 'sim', 'frete', 'processador',\n",
       "       '32', 's5', 'duos', 'promoção', '4gb', 'ano', 'android', 'tv',\n",
       "       'j400m', 'j4', 's60', 'caterpillar', 'cat', 'k10', 'play', 'redmi',\n",
       "       'e5', 'global', 'chip', 'apple', 'samsung', 'desbloqueado',\n",
       "       '128gb', 'lg', 'xt1726', 'mi', 'fiscal', 'ram', '8mp', 'nf',\n",
       "       'garantia', 'prime', 'nota', '8gb', 'moto', '3g', 'gb', 'j7',\n",
       "       'ferrari', 'anatel', 'novo', 'vitrine', 'dual', 'nextel',\n",
       "       'dourado', '4g', 'lacrado', 'g800h', '16gb', 'tela', 'plus',\n",
       "       'original', 'xiaomi', '256gb', 'celular', 's9', 'galaxy',\n",
       "       'motorola', 'smartphone', 'i867', 'iphone', '32gb', '64gb'],\n",
       "      dtype='<U23')"
      ]
     },
     "execution_count": 18,
     "metadata": {},
     "output_type": "execute_result"
    }
   ],
   "source": [
    "# 100 principais features associadas a smartphones\n",
    "feature_names = np.array(vect.get_feature_names())\n",
    "coefs_sorted = modelos['logistic_regression'].coef_[0].argsort()\n",
    "feature_names[coefs_sorted][-100:]"
   ]
  },
  {
   "cell_type": "code",
   "execution_count": 19,
   "metadata": {},
   "outputs": [
    {
     "data": {
      "text/plain": [
       "array(['capa', 'bumper', 'bracadeira', 'para', 'película', 'vidro', 'tab',\n",
       "       'rosa', 'kit', 'watch', 'tablet', 'tpu', 'p355m', 'azul',\n",
       "       'transparente', 'vermelho', 'pc', 'de', 'bumber', 's3', '5mp',\n",
       "       'fonte', 'series', '38mm', 'pelicula', 'em', 'protetora',\n",
       "       'shampoo', 'preta', 'único', 'capapelicula', 'pingente', '4s',\n",
       "       'ero', 'laço', 'cabo', 'papel', 'do', 'silver', 'nike', 's6102',\n",
       "       's4', 'samba', 'jr', 'q53', 'carregador', 'flip', 'ml', 'blu',\n",
       "       'cm', 'ciabrink', 'premium', 'dados', 'couro', 'séries', '42mm',\n",
       "       'core', 'pulseira', 'amarelo', 'ghz', 'violão', 'sm', 'infantil',\n",
       "       'temperado', 'litocart', 'branco', 'mirror', 'usb', 'black',\n",
       "       'adesivo', 'madeira', 'espelhamento', 'au906', 'cast', 'esportiva',\n",
       "       'batom', 'verde', 'micro', 'vgn', 'veicular', 'adaptador',\n",
       "       'braçadeira', 'idea', 'gps', '5c', 'tracta', 'whey', 'exclusiva',\n",
       "       'personalizada', 'branca', 'ddr3', 'com', 'suporte', 'coração',\n",
       "       'botão', 'ipad', 'orthopauher', 'gel', 'toke', 'crie'],\n",
       "      dtype='<U23')"
      ]
     },
     "execution_count": 19,
     "metadata": {},
     "output_type": "execute_result"
    }
   ],
   "source": [
    "# 100 principais features associadas a não-smartphones\n",
    "feature_names[coefs_sorted][:100]"
   ]
  },
  {
   "cell_type": "markdown",
   "metadata": {},
   "source": [
    "# Parte 4: Classificação\n",
    "Aplicação do melhor modelo encontrado e salvamento do resultado."
   ]
  },
  {
   "cell_type": "code",
   "execution_count": 20,
   "metadata": {},
   "outputs": [],
   "source": [
    "data = pd.read_csv('data/data_estag_ds.tsv', sep='\\t')"
   ]
  },
  {
   "cell_type": "code",
   "execution_count": 21,
   "metadata": {
    "scrolled": true
   },
   "outputs": [
    {
     "data": {
      "text/html": [
       "<div>\n",
       "<style scoped>\n",
       "    .dataframe tbody tr th:only-of-type {\n",
       "        vertical-align: middle;\n",
       "    }\n",
       "\n",
       "    .dataframe tbody tr th {\n",
       "        vertical-align: top;\n",
       "    }\n",
       "\n",
       "    .dataframe thead th {\n",
       "        text-align: right;\n",
       "    }\n",
       "</style>\n",
       "<table border=\"1\" class=\"dataframe\">\n",
       "  <thead>\n",
       "    <tr style=\"text-align: right;\">\n",
       "      <th></th>\n",
       "      <th>ID</th>\n",
       "      <th>TITLE</th>\n",
       "    </tr>\n",
       "  </thead>\n",
       "  <tbody>\n",
       "    <tr>\n",
       "      <th>0</th>\n",
       "      <td>1041354</td>\n",
       "      <td>Acessório T - Jean Bag For Girls para DS Lite</td>\n",
       "    </tr>\n",
       "    <tr>\n",
       "      <th>1</th>\n",
       "      <td>1041782</td>\n",
       "      <td>Carrinho de Bebê Berço-Passeio - Pegasus Pink ...</td>\n",
       "    </tr>\n",
       "    <tr>\n",
       "      <th>2</th>\n",
       "      <td>1041834</td>\n",
       "      <td>Carrinho de Bebê para Gêmeos Berço-Passeio - T...</td>\n",
       "    </tr>\n",
       "    <tr>\n",
       "      <th>3</th>\n",
       "      <td>1042568</td>\n",
       "      <td>Car Center - Calesita</td>\n",
       "    </tr>\n",
       "    <tr>\n",
       "      <th>4</th>\n",
       "      <td>1042584</td>\n",
       "      <td>Donka Trem com Som - Calesita</td>\n",
       "    </tr>\n",
       "    <tr>\n",
       "      <th>5</th>\n",
       "      <td>1043696</td>\n",
       "      <td>Interfone HDL AZ-01 Branco</td>\n",
       "    </tr>\n",
       "    <tr>\n",
       "      <th>6</th>\n",
       "      <td>1940486</td>\n",
       "      <td>Smartphone LG Optimus L7 II Dual P716 Preto co...</td>\n",
       "    </tr>\n",
       "    <tr>\n",
       "      <th>7</th>\n",
       "      <td>2277815</td>\n",
       "      <td>Smartphone Samsung Galaxy S4 Mini Duos Preto c...</td>\n",
       "    </tr>\n",
       "    <tr>\n",
       "      <th>8</th>\n",
       "      <td>2961097</td>\n",
       "      <td>Smartphone  Samsung Galaxy S5 SM-G900M Branco ...</td>\n",
       "    </tr>\n",
       "    <tr>\n",
       "      <th>9</th>\n",
       "      <td>2961099</td>\n",
       "      <td>Smartphone  Samsung Galaxy S5 SM-G900M Dourado...</td>\n",
       "    </tr>\n",
       "  </tbody>\n",
       "</table>\n",
       "</div>"
      ],
      "text/plain": [
       "        ID                                              TITLE\n",
       "0  1041354      Acessório T - Jean Bag For Girls para DS Lite\n",
       "1  1041782  Carrinho de Bebê Berço-Passeio - Pegasus Pink ...\n",
       "2  1041834  Carrinho de Bebê para Gêmeos Berço-Passeio - T...\n",
       "3  1042568                              Car Center - Calesita\n",
       "4  1042584                      Donka Trem com Som - Calesita\n",
       "5  1043696                         Interfone HDL AZ-01 Branco\n",
       "6  1940486  Smartphone LG Optimus L7 II Dual P716 Preto co...\n",
       "7  2277815  Smartphone Samsung Galaxy S4 Mini Duos Preto c...\n",
       "8  2961097  Smartphone  Samsung Galaxy S5 SM-G900M Branco ...\n",
       "9  2961099  Smartphone  Samsung Galaxy S5 SM-G900M Dourado..."
      ]
     },
     "execution_count": 21,
     "metadata": {},
     "output_type": "execute_result"
    }
   ],
   "source": [
    "data.head(10)"
   ]
  },
  {
   "cell_type": "code",
   "execution_count": 22,
   "metadata": {},
   "outputs": [],
   "source": [
    "vect = CountVectorizer(stop_words=pt_stopwords)\n",
    "X = CountVectorizer().fit_transform(data['TITLE'])\n",
    "y = modelos['logistic_regression'].predict(X)"
   ]
  },
  {
   "cell_type": "code",
   "execution_count": 23,
   "metadata": {},
   "outputs": [
    {
     "data": {
      "text/plain": [
       "LogisticRegression(C=10, class_weight=None, dual=False, fit_intercept=True,\n",
       "                   intercept_scaling=1, l1_ratio=None, max_iter=100,\n",
       "                   multi_class='warn', n_jobs=None, penalty='l2',\n",
       "                   random_state=None, solver='liblinear', tol=0.0001, verbose=0,\n",
       "                   warm_start=False)"
      ]
     },
     "execution_count": 23,
     "metadata": {},
     "output_type": "execute_result"
    }
   ],
   "source": [
    "modelos['logistic_regression']"
   ]
  },
  {
   "cell_type": "code",
   "execution_count": 24,
   "metadata": {},
   "outputs": [],
   "source": [
    "data['SMARTPHONE'] = y"
   ]
  },
  {
   "cell_type": "markdown",
   "metadata": {},
   "source": [
    "# SEGUNDA FASE"
   ]
  },
  {
   "cell_type": "code",
   "execution_count": 25,
   "metadata": {},
   "outputs": [],
   "source": [
    "import nltk\n",
    "from fuzzywuzzy import process"
   ]
  },
  {
   "cell_type": "code",
   "execution_count": 26,
   "metadata": {},
   "outputs": [],
   "source": [
    "birdie_data = pd.read_csv('data/resultados.tsv', sep='\\t')\n",
    "submarino_data = pd.read_csv('data/submarino_smartphones.tsv', sep='\\t')"
   ]
  },
  {
   "cell_type": "code",
   "execution_count": 27,
   "metadata": {},
   "outputs": [
    {
     "data": {
      "text/html": [
       "<div>\n",
       "<style scoped>\n",
       "    .dataframe tbody tr th:only-of-type {\n",
       "        vertical-align: middle;\n",
       "    }\n",
       "\n",
       "    .dataframe tbody tr th {\n",
       "        vertical-align: top;\n",
       "    }\n",
       "\n",
       "    .dataframe thead th {\n",
       "        text-align: right;\n",
       "    }\n",
       "</style>\n",
       "<table border=\"1\" class=\"dataframe\">\n",
       "  <thead>\n",
       "    <tr style=\"text-align: right;\">\n",
       "      <th></th>\n",
       "      <th>url</th>\n",
       "      <th>smartphone</th>\n",
       "    </tr>\n",
       "  </thead>\n",
       "  <tbody>\n",
       "    <tr>\n",
       "      <th>0</th>\n",
       "      <td>https://www.submarino.com.br/categoria/celular...</td>\n",
       "      <td>Smartphone Motorola One Vision 128GB Dual Chip...</td>\n",
       "    </tr>\n",
       "    <tr>\n",
       "      <th>1</th>\n",
       "      <td>https://www.submarino.com.br/categoria/celular...</td>\n",
       "      <td>Iphone 8 Plus 64GB Ouro  Tela 5.5\" iOS 12 4G C...</td>\n",
       "    </tr>\n",
       "    <tr>\n",
       "      <th>2</th>\n",
       "      <td>https://www.submarino.com.br/categoria/celular...</td>\n",
       "      <td>iPhone 8 Plus 64gb Silver Tela 5.5” iOS 12 4G ...</td>\n",
       "    </tr>\n",
       "    <tr>\n",
       "      <th>3</th>\n",
       "      <td>https://www.submarino.com.br/categoria/celular...</td>\n",
       "      <td>Smartphone Samsung Galaxy S10e 128GB Dual Chip...</td>\n",
       "    </tr>\n",
       "    <tr>\n",
       "      <th>4</th>\n",
       "      <td>https://www.submarino.com.br/categoria/celular...</td>\n",
       "      <td>Smartphone Samsung Galaxy Note 9 128GB Nano Ch...</td>\n",
       "    </tr>\n",
       "  </tbody>\n",
       "</table>\n",
       "</div>"
      ],
      "text/plain": [
       "                                                 url  \\\n",
       "0  https://www.submarino.com.br/categoria/celular...   \n",
       "1  https://www.submarino.com.br/categoria/celular...   \n",
       "2  https://www.submarino.com.br/categoria/celular...   \n",
       "3  https://www.submarino.com.br/categoria/celular...   \n",
       "4  https://www.submarino.com.br/categoria/celular...   \n",
       "\n",
       "                                          smartphone  \n",
       "0  Smartphone Motorola One Vision 128GB Dual Chip...  \n",
       "1  Iphone 8 Plus 64GB Ouro  Tela 5.5\" iOS 12 4G C...  \n",
       "2  iPhone 8 Plus 64gb Silver Tela 5.5” iOS 12 4G ...  \n",
       "3  Smartphone Samsung Galaxy S10e 128GB Dual Chip...  \n",
       "4  Smartphone Samsung Galaxy Note 9 128GB Nano Ch...  "
      ]
     },
     "execution_count": 27,
     "metadata": {},
     "output_type": "execute_result"
    }
   ],
   "source": [
    "submarino_data.head()"
   ]
  },
  {
   "cell_type": "markdown",
   "metadata": {},
   "source": [
    "# Usando o classificador da primeira fase"
   ]
  },
  {
   "cell_type": "code",
   "execution_count": 28,
   "metadata": {},
   "outputs": [],
   "source": [
    "vect = CountVectorizer().fit(data['TITLE'])\n",
    "X = vect.transform(submarino_data['smartphone'])\n",
    "y = modelos['logistic_regression'].predict(X)\n",
    "submarino_data['SMARTPHONE'] = y"
   ]
  },
  {
   "cell_type": "code",
   "execution_count": 29,
   "metadata": {},
   "outputs": [
    {
     "data": {
      "text/plain": [
       "1.0    5246\n",
       "0.0    1479\n",
       "Name: SMARTPHONE, dtype: int64"
      ]
     },
     "execution_count": 29,
     "metadata": {},
     "output_type": "execute_result"
    }
   ],
   "source": [
    "# Qtd de smartphones e nao smartphones\n",
    "submarino_data['SMARTPHONE'].value_counts()"
   ]
  },
  {
   "cell_type": "code",
   "execution_count": 30,
   "metadata": {},
   "outputs": [
    {
     "data": {
      "text/html": [
       "<div>\n",
       "<style scoped>\n",
       "    .dataframe tbody tr th:only-of-type {\n",
       "        vertical-align: middle;\n",
       "    }\n",
       "\n",
       "    .dataframe tbody tr th {\n",
       "        vertical-align: top;\n",
       "    }\n",
       "\n",
       "    .dataframe thead th {\n",
       "        text-align: right;\n",
       "    }\n",
       "</style>\n",
       "<table border=\"1\" class=\"dataframe\">\n",
       "  <thead>\n",
       "    <tr style=\"text-align: right;\">\n",
       "      <th></th>\n",
       "      <th>url</th>\n",
       "      <th>smartphone</th>\n",
       "      <th>SMARTPHONE</th>\n",
       "    </tr>\n",
       "  </thead>\n",
       "  <tbody>\n",
       "    <tr>\n",
       "      <th>116</th>\n",
       "      <td>https://www.submarino.com.br/categoria/celular...</td>\n",
       "      <td>Usado: Iphone 7 Apple 128gb Prata</td>\n",
       "      <td>0.0</td>\n",
       "    </tr>\n",
       "    <tr>\n",
       "      <th>129</th>\n",
       "      <td>https://www.submarino.com.br/categoria/celular...</td>\n",
       "      <td>Usado: Iphone 6 16gb Cinza Espacial Muito Bom ...</td>\n",
       "      <td>0.0</td>\n",
       "    </tr>\n",
       "    <tr>\n",
       "      <th>130</th>\n",
       "      <td>https://www.submarino.com.br/categoria/celular...</td>\n",
       "      <td>Smartwatch Samsung Galaxy Watch Active Sm-r500...</td>\n",
       "      <td>0.0</td>\n",
       "    </tr>\n",
       "    <tr>\n",
       "      <th>135</th>\n",
       "      <td>https://www.submarino.com.br/categoria/celular...</td>\n",
       "      <td>Moto G6 Plus Edição Limitada</td>\n",
       "      <td>0.0</td>\n",
       "    </tr>\n",
       "    <tr>\n",
       "      <th>141</th>\n",
       "      <td>https://www.submarino.com.br/categoria/celular...</td>\n",
       "      <td>Usado: Iphone 7 128gb Preto Brilhante Bom - Tr...</td>\n",
       "      <td>0.0</td>\n",
       "    </tr>\n",
       "    <tr>\n",
       "      <th>164</th>\n",
       "      <td>https://www.submarino.com.br/categoria/celular...</td>\n",
       "      <td>Smartwatch Samsung Galaxy Watch Active Sm-r500...</td>\n",
       "      <td>0.0</td>\n",
       "    </tr>\n",
       "    <tr>\n",
       "      <th>168</th>\n",
       "      <td>https://www.submarino.com.br/categoria/celular...</td>\n",
       "      <td>Zenfone 4 4GB Ram - Preto</td>\n",
       "      <td>0.0</td>\n",
       "    </tr>\n",
       "    <tr>\n",
       "      <th>193</th>\n",
       "      <td>https://www.submarino.com.br/categoria/celular...</td>\n",
       "      <td>Usado: Iphone 6s Apple 128gb Prata</td>\n",
       "      <td>0.0</td>\n",
       "    </tr>\n",
       "    <tr>\n",
       "      <th>196</th>\n",
       "      <td>https://www.submarino.com.br/categoria/celular...</td>\n",
       "      <td>Usado: Samsung Galaxy Note 9 Preto Muito Bom -...</td>\n",
       "      <td>0.0</td>\n",
       "    </tr>\n",
       "    <tr>\n",
       "      <th>203</th>\n",
       "      <td>https://www.submarino.com.br/categoria/celular...</td>\n",
       "      <td>Seminovo: iPhone 7 128GB Preto Matte Usado</td>\n",
       "      <td>0.0</td>\n",
       "    </tr>\n",
       "    <tr>\n",
       "      <th>222</th>\n",
       "      <td>https://www.submarino.com.br/categoria/celular...</td>\n",
       "      <td>Usado: Iphone 6 128gb Prateado Muito Bom - Tro...</td>\n",
       "      <td>0.0</td>\n",
       "    </tr>\n",
       "    <tr>\n",
       "      <th>224</th>\n",
       "      <td>https://www.submarino.com.br/categoria/celular...</td>\n",
       "      <td>Iphone 6s Apple 16gb Rosa Seminovo</td>\n",
       "      <td>0.0</td>\n",
       "    </tr>\n",
       "    <tr>\n",
       "      <th>226</th>\n",
       "      <td>https://www.submarino.com.br/categoria/celular...</td>\n",
       "      <td>Seminovo: Samsung Galaxy S8 Ametista Usado</td>\n",
       "      <td>0.0</td>\n",
       "    </tr>\n",
       "    <tr>\n",
       "      <th>247</th>\n",
       "      <td>https://www.submarino.com.br/categoria/celular...</td>\n",
       "      <td>Usado: Iphone 6s 16gb Cinza Espacial Bom - Tro...</td>\n",
       "      <td>0.0</td>\n",
       "    </tr>\n",
       "    <tr>\n",
       "      <th>305</th>\n",
       "      <td>https://www.submarino.com.br/categoria/celular...</td>\n",
       "      <td>Lenovo K8 Note XT1902 32GB</td>\n",
       "      <td>0.0</td>\n",
       "    </tr>\n",
       "    <tr>\n",
       "      <th>320</th>\n",
       "      <td>https://www.submarino.com.br/categoria/celular...</td>\n",
       "      <td>Usado: Samsung Galaxy A7 2016 Rosa Muito Bom -...</td>\n",
       "      <td>0.0</td>\n",
       "    </tr>\n",
       "    <tr>\n",
       "      <th>326</th>\n",
       "      <td>https://www.submarino.com.br/categoria/celular...</td>\n",
       "      <td>Asus Zenfone Live L1 2gb/32gb Camera13mp/5mp Q...</td>\n",
       "      <td>0.0</td>\n",
       "    </tr>\n",
       "    <tr>\n",
       "      <th>344</th>\n",
       "      <td>https://www.submarino.com.br/categoria/celular...</td>\n",
       "      <td>Usado: Motorola Moto G5 Ouro Excelente - Troca...</td>\n",
       "      <td>0.0</td>\n",
       "    </tr>\n",
       "    <tr>\n",
       "      <th>350</th>\n",
       "      <td>https://www.submarino.com.br/categoria/celular...</td>\n",
       "      <td>Usado: Samsung Galaxy J5 2016 Metal Preto Muit...</td>\n",
       "      <td>0.0</td>\n",
       "    </tr>\n",
       "    <tr>\n",
       "      <th>351</th>\n",
       "      <td>https://www.submarino.com.br/categoria/celular...</td>\n",
       "      <td>Usado: Motorola Moto G5 Ouro Muito Bom - Troca...</td>\n",
       "      <td>0.0</td>\n",
       "    </tr>\n",
       "    <tr>\n",
       "      <th>354</th>\n",
       "      <td>https://www.submarino.com.br/categoria/celular...</td>\n",
       "      <td>Usado: Samsung Galaxy A5 2016 Preto Muito Bom ...</td>\n",
       "      <td>0.0</td>\n",
       "    </tr>\n",
       "    <tr>\n",
       "      <th>355</th>\n",
       "      <td>https://www.submarino.com.br/categoria/celular...</td>\n",
       "      <td>Smartphone Multilaser Ms60 2 Chip Branco Nb231</td>\n",
       "      <td>0.0</td>\n",
       "    </tr>\n",
       "    <tr>\n",
       "      <th>358</th>\n",
       "      <td>https://www.submarino.com.br/categoria/celular...</td>\n",
       "      <td>Usado: Samsung Galaxy A3 Duos Branco</td>\n",
       "      <td>0.0</td>\n",
       "    </tr>\n",
       "    <tr>\n",
       "      <th>361</th>\n",
       "      <td>https://www.submarino.com.br/categoria/celular...</td>\n",
       "      <td>Celular Flip Up Dual Chip Mp3 Preto Multilaser...</td>\n",
       "      <td>0.0</td>\n",
       "    </tr>\n",
       "    <tr>\n",
       "      <th>362</th>\n",
       "      <td>https://www.submarino.com.br/categoria/celular...</td>\n",
       "      <td>Usado: Samsung Galaxy J3 Sm-j320m Preto Excele...</td>\n",
       "      <td>0.0</td>\n",
       "    </tr>\n",
       "    <tr>\n",
       "      <th>363</th>\n",
       "      <td>https://www.submarino.com.br/categoria/celular...</td>\n",
       "      <td>Usado: Lenovo Vibe K5 Preto Muito Bom - Trocafone</td>\n",
       "      <td>0.0</td>\n",
       "    </tr>\n",
       "    <tr>\n",
       "      <th>367</th>\n",
       "      <td>https://www.submarino.com.br/categoria/celular...</td>\n",
       "      <td>Celular Flip Up Câmera Mp3 Dual Chip Rosa Mult...</td>\n",
       "      <td>0.0</td>\n",
       "    </tr>\n",
       "    <tr>\n",
       "      <th>369</th>\n",
       "      <td>https://www.submarino.com.br/categoria/celular...</td>\n",
       "      <td>Usado: Samsung Galaxy J1 Mini Preto Muito Bom ...</td>\n",
       "      <td>0.0</td>\n",
       "    </tr>\n",
       "    <tr>\n",
       "      <th>371</th>\n",
       "      <td>https://www.submarino.com.br/categoria/celular...</td>\n",
       "      <td>Celular New Up Dual Chip Com Câmera E Bluetoot...</td>\n",
       "      <td>0.0</td>\n",
       "    </tr>\n",
       "    <tr>\n",
       "      <th>375</th>\n",
       "      <td>https://www.submarino.com.br/categoria/celular...</td>\n",
       "      <td>Celular Flip Up Câmera Mp3 Dual Chip - Preto M...</td>\n",
       "      <td>0.0</td>\n",
       "    </tr>\n",
       "  </tbody>\n",
       "</table>\n",
       "</div>"
      ],
      "text/plain": [
       "                                                   url  \\\n",
       "116  https://www.submarino.com.br/categoria/celular...   \n",
       "129  https://www.submarino.com.br/categoria/celular...   \n",
       "130  https://www.submarino.com.br/categoria/celular...   \n",
       "135  https://www.submarino.com.br/categoria/celular...   \n",
       "141  https://www.submarino.com.br/categoria/celular...   \n",
       "164  https://www.submarino.com.br/categoria/celular...   \n",
       "168  https://www.submarino.com.br/categoria/celular...   \n",
       "193  https://www.submarino.com.br/categoria/celular...   \n",
       "196  https://www.submarino.com.br/categoria/celular...   \n",
       "203  https://www.submarino.com.br/categoria/celular...   \n",
       "222  https://www.submarino.com.br/categoria/celular...   \n",
       "224  https://www.submarino.com.br/categoria/celular...   \n",
       "226  https://www.submarino.com.br/categoria/celular...   \n",
       "247  https://www.submarino.com.br/categoria/celular...   \n",
       "305  https://www.submarino.com.br/categoria/celular...   \n",
       "320  https://www.submarino.com.br/categoria/celular...   \n",
       "326  https://www.submarino.com.br/categoria/celular...   \n",
       "344  https://www.submarino.com.br/categoria/celular...   \n",
       "350  https://www.submarino.com.br/categoria/celular...   \n",
       "351  https://www.submarino.com.br/categoria/celular...   \n",
       "354  https://www.submarino.com.br/categoria/celular...   \n",
       "355  https://www.submarino.com.br/categoria/celular...   \n",
       "358  https://www.submarino.com.br/categoria/celular...   \n",
       "361  https://www.submarino.com.br/categoria/celular...   \n",
       "362  https://www.submarino.com.br/categoria/celular...   \n",
       "363  https://www.submarino.com.br/categoria/celular...   \n",
       "367  https://www.submarino.com.br/categoria/celular...   \n",
       "369  https://www.submarino.com.br/categoria/celular...   \n",
       "371  https://www.submarino.com.br/categoria/celular...   \n",
       "375  https://www.submarino.com.br/categoria/celular...   \n",
       "\n",
       "                                            smartphone  SMARTPHONE  \n",
       "116                  Usado: Iphone 7 Apple 128gb Prata         0.0  \n",
       "129  Usado: Iphone 6 16gb Cinza Espacial Muito Bom ...         0.0  \n",
       "130  Smartwatch Samsung Galaxy Watch Active Sm-r500...         0.0  \n",
       "135                       Moto G6 Plus Edição Limitada         0.0  \n",
       "141  Usado: Iphone 7 128gb Preto Brilhante Bom - Tr...         0.0  \n",
       "164  Smartwatch Samsung Galaxy Watch Active Sm-r500...         0.0  \n",
       "168                          Zenfone 4 4GB Ram - Preto         0.0  \n",
       "193                 Usado: Iphone 6s Apple 128gb Prata         0.0  \n",
       "196  Usado: Samsung Galaxy Note 9 Preto Muito Bom -...         0.0  \n",
       "203         Seminovo: iPhone 7 128GB Preto Matte Usado         0.0  \n",
       "222  Usado: Iphone 6 128gb Prateado Muito Bom - Tro...         0.0  \n",
       "224                 Iphone 6s Apple 16gb Rosa Seminovo         0.0  \n",
       "226         Seminovo: Samsung Galaxy S8 Ametista Usado         0.0  \n",
       "247  Usado: Iphone 6s 16gb Cinza Espacial Bom - Tro...         0.0  \n",
       "305                         Lenovo K8 Note XT1902 32GB         0.0  \n",
       "320  Usado: Samsung Galaxy A7 2016 Rosa Muito Bom -...         0.0  \n",
       "326  Asus Zenfone Live L1 2gb/32gb Camera13mp/5mp Q...         0.0  \n",
       "344  Usado: Motorola Moto G5 Ouro Excelente - Troca...         0.0  \n",
       "350  Usado: Samsung Galaxy J5 2016 Metal Preto Muit...         0.0  \n",
       "351  Usado: Motorola Moto G5 Ouro Muito Bom - Troca...         0.0  \n",
       "354  Usado: Samsung Galaxy A5 2016 Preto Muito Bom ...         0.0  \n",
       "355     Smartphone Multilaser Ms60 2 Chip Branco Nb231         0.0  \n",
       "358               Usado: Samsung Galaxy A3 Duos Branco         0.0  \n",
       "361  Celular Flip Up Dual Chip Mp3 Preto Multilaser...         0.0  \n",
       "362  Usado: Samsung Galaxy J3 Sm-j320m Preto Excele...         0.0  \n",
       "363  Usado: Lenovo Vibe K5 Preto Muito Bom - Trocafone         0.0  \n",
       "367  Celular Flip Up Câmera Mp3 Dual Chip Rosa Mult...         0.0  \n",
       "369  Usado: Samsung Galaxy J1 Mini Preto Muito Bom ...         0.0  \n",
       "371  Celular New Up Dual Chip Com Câmera E Bluetoot...         0.0  \n",
       "375  Celular Flip Up Câmera Mp3 Dual Chip - Preto M...         0.0  "
      ]
     },
     "execution_count": 30,
     "metadata": {},
     "output_type": "execute_result"
    }
   ],
   "source": [
    "submarino_data[submarino_data['SMARTPHONE'] == 0].head(30)\n",
    "\n",
    "# Bastante False Negative (era pra ser positivo mas foi classificado como negativo)\n",
    "# Provavelmente são modelos de smartphone que não estão presentes no conjunto da primeira fase\n",
    "# Nao é tão bom, mas filtra bem os exemplos True Negative"
   ]
  },
  {
   "cell_type": "code",
   "execution_count": 31,
   "metadata": {},
   "outputs": [],
   "source": [
    "# Removendo o atributo de classe de ambos os datasets\n",
    "submarino_data = pd.DataFrame(submarino_data['smartphone'][submarino_data['SMARTPHONE'] == 1])\n",
    "submarino_data.columns = ['TITLE']\n",
    "\n",
    "birdie_data = pd.DataFrame(birdie_data['TITLE'][birdie_data['SMARTPHONE'] == 1], columns=['TITLE'])"
   ]
  },
  {
   "cell_type": "code",
   "execution_count": 32,
   "metadata": {
    "scrolled": false
   },
   "outputs": [
    {
     "name": "stdout",
     "output_type": "stream",
     "text": [
      "tamanho (submarino): 5246\n",
      "qtd de smartphones unicos: 4061\n"
     ]
    }
   ],
   "source": [
    "print('tamanho (submarino):', len(submarino_data['TITLE']))\n",
    "print('qtd de smartphones unicos:', submarino_data['TITLE'].nunique())\n",
    "\n",
    "submarino_data.drop_duplicates(inplace=True)"
   ]
  },
  {
   "cell_type": "code",
   "execution_count": 33,
   "metadata": {},
   "outputs": [
    {
     "name": "stdout",
     "output_type": "stream",
     "text": [
      "tamanho (birdie): 588\n",
      "qtd de smartphones unicos: 546\n"
     ]
    }
   ],
   "source": [
    "print('tamanho (birdie):', len(birdie_data['TITLE']))\n",
    "print('qtd de smartphones unicos:', birdie_data['TITLE'].nunique())"
   ]
  },
  {
   "cell_type": "code",
   "execution_count": 34,
   "metadata": {},
   "outputs": [],
   "source": [
    "# Deixando tudo minusculo\n",
    "submarino_data['TITLE'] = submarino_data['TITLE'].apply(lambda x: x.lower())"
   ]
  },
  {
   "cell_type": "code",
   "execution_count": 35,
   "metadata": {},
   "outputs": [
    {
     "data": {
      "text/html": [
       "<div>\n",
       "<style scoped>\n",
       "    .dataframe tbody tr th:only-of-type {\n",
       "        vertical-align: middle;\n",
       "    }\n",
       "\n",
       "    .dataframe tbody tr th {\n",
       "        vertical-align: top;\n",
       "    }\n",
       "\n",
       "    .dataframe thead th {\n",
       "        text-align: right;\n",
       "    }\n",
       "</style>\n",
       "<table border=\"1\" class=\"dataframe\">\n",
       "  <thead>\n",
       "    <tr style=\"text-align: right;\">\n",
       "      <th></th>\n",
       "      <th>TITLE</th>\n",
       "    </tr>\n",
       "  </thead>\n",
       "  <tbody>\n",
       "    <tr>\n",
       "      <th>0</th>\n",
       "      <td>smartphone motorola one vision 128gb dual chip...</td>\n",
       "    </tr>\n",
       "    <tr>\n",
       "      <th>1</th>\n",
       "      <td>iphone 8 plus 64gb ouro  tela 5.5\" ios 12 4g c...</td>\n",
       "    </tr>\n",
       "    <tr>\n",
       "      <th>2</th>\n",
       "      <td>iphone 8 plus 64gb silver tela 5.5” ios 12 4g ...</td>\n",
       "    </tr>\n",
       "    <tr>\n",
       "      <th>3</th>\n",
       "      <td>smartphone samsung galaxy s10e 128gb dual chip...</td>\n",
       "    </tr>\n",
       "    <tr>\n",
       "      <th>4</th>\n",
       "      <td>smartphone samsung galaxy note 9 128gb nano ch...</td>\n",
       "    </tr>\n",
       "  </tbody>\n",
       "</table>\n",
       "</div>"
      ],
      "text/plain": [
       "                                               TITLE\n",
       "0  smartphone motorola one vision 128gb dual chip...\n",
       "1  iphone 8 plus 64gb ouro  tela 5.5\" ios 12 4g c...\n",
       "2  iphone 8 plus 64gb silver tela 5.5” ios 12 4g ...\n",
       "3  smartphone samsung galaxy s10e 128gb dual chip...\n",
       "4  smartphone samsung galaxy note 9 128gb nano ch..."
      ]
     },
     "execution_count": 35,
     "metadata": {},
     "output_type": "execute_result"
    }
   ],
   "source": [
    "submarino_data.head()"
   ]
  },
  {
   "cell_type": "code",
   "execution_count": 36,
   "metadata": {},
   "outputs": [],
   "source": [
    "birdie_data['TITLE'] = birdie_data['TITLE'].apply(lambda x: x.lower())"
   ]
  },
  {
   "cell_type": "code",
   "execution_count": 37,
   "metadata": {},
   "outputs": [
    {
     "data": {
      "text/html": [
       "<div>\n",
       "<style scoped>\n",
       "    .dataframe tbody tr th:only-of-type {\n",
       "        vertical-align: middle;\n",
       "    }\n",
       "\n",
       "    .dataframe tbody tr th {\n",
       "        vertical-align: top;\n",
       "    }\n",
       "\n",
       "    .dataframe thead th {\n",
       "        text-align: right;\n",
       "    }\n",
       "</style>\n",
       "<table border=\"1\" class=\"dataframe\">\n",
       "  <thead>\n",
       "    <tr style=\"text-align: right;\">\n",
       "      <th></th>\n",
       "      <th>TITLE</th>\n",
       "    </tr>\n",
       "  </thead>\n",
       "  <tbody>\n",
       "    <tr>\n",
       "      <th>6</th>\n",
       "      <td>smartphone lg optimus l7 ii dual p716 preto co...</td>\n",
       "    </tr>\n",
       "    <tr>\n",
       "      <th>7</th>\n",
       "      <td>smartphone samsung galaxy s4 mini duos preto c...</td>\n",
       "    </tr>\n",
       "    <tr>\n",
       "      <th>8</th>\n",
       "      <td>smartphone  samsung galaxy s5 sm-g900m branco ...</td>\n",
       "    </tr>\n",
       "    <tr>\n",
       "      <th>9</th>\n",
       "      <td>smartphone  samsung galaxy s5 sm-g900m dourado...</td>\n",
       "    </tr>\n",
       "    <tr>\n",
       "      <th>10</th>\n",
       "      <td>smartphone lg l90 dual d410 preto com tela de ...</td>\n",
       "    </tr>\n",
       "  </tbody>\n",
       "</table>\n",
       "</div>"
      ],
      "text/plain": [
       "                                                TITLE\n",
       "6   smartphone lg optimus l7 ii dual p716 preto co...\n",
       "7   smartphone samsung galaxy s4 mini duos preto c...\n",
       "8   smartphone  samsung galaxy s5 sm-g900m branco ...\n",
       "9   smartphone  samsung galaxy s5 sm-g900m dourado...\n",
       "10  smartphone lg l90 dual d410 preto com tela de ..."
      ]
     },
     "execution_count": 37,
     "metadata": {},
     "output_type": "execute_result"
    }
   ],
   "source": [
    "birdie_data.head()"
   ]
  },
  {
   "cell_type": "markdown",
   "metadata": {},
   "source": [
    "# Extraindo Specs\n",
    "Acabei não utilizando 'marca' como um spec, pois piorava muito o matching, já que existem casos em que a marca não está presente, mas o modelo sim. Como é possível garantir que as marcas são únicas para todo modelo, não será necessário se preocupar com esse atributo. Outros specs como tamanho de tela, quantidade de chips, tipo e velocidade do processador também foram considerados, mas não foram utilizados pois acabavam piorando bastante o matching. A abordagem utilizada foi a de selecionar smartphones com modelo, qtd de memoria e qtd de armazenamento iguais.\n",
    "\n",
    "Nota: como foi especificado que a cor é irrelevante para o matching, esse atributo também não foi considerado."
   ]
  },
  {
   "cell_type": "code",
   "execution_count": 38,
   "metadata": {},
   "outputs": [],
   "source": [
    "#re_marcas = ('samsung|lg|motorola|asus|apple|multilaser|sony|xiaomi|' + \n",
    "#             'alcatel|positivo|microsoft|lenovo|huawei|caterpillar')\n",
    "\n",
    "#re_cor = 'azul|amarelo|vermelho|branco|preto|dourado|prata|violeta|grafite|black piano'\n",
    "\n",
    "# re_dual_chip = 'dual chip|dual sim'\n",
    "\n",
    "#re_tam_tela = '[4-7][\\.,]\\d'\n",
    "\n",
    "re_qtds_memoria = '[ ,\\.\\\\/]\\d{1} ?gb[ ,\\.\\\\/]'\n",
    "\n",
    "re_qtds_armazenamento = '[ ,\\.\\\\/]\\d{2,3} ?gb[ ,\\.\\\\/]'\n",
    "\n",
    "re_modelos = ('galaxy pocket plus?|galaxy core plus|galaxy \\w\\d{1,2} prime|galaxy \\w\\d{1,2} mini|' +  # Samsung\n",
    "              'galaxy \\w\\d{1,2} edge|galaxy \\w\\d{1,2}\\w?\\+?|galaxy .* duos|galaxy note \\d|' + # Samsung\n",
    "              'moto \\w\\d? plus|moto \\w\\d?|nextel \\w\\d{1,3}|motorola \\w plus|' + # Motorola\n",
    "              'redmi note \\d lite|redmi note \\d|mi mix \\d\\w|mi \\w?\\d|' + # Xiaomi\n",
    "              'mi \\w?\\d lite|pocophone \\w\\d{1,2}|' + # Xiaomi\n",
    "              'iphone \\d plus|iphone \\d\\w plus|iphone \\d|iphone \\d\\w|iphone x[sr] plus|iphone x[sr]|iphone x|' + # Apple\n",
    "              'optimus \\w\\d{1,2}|\\w\\d{1,2} lite|k\\d{1,2}|q\\d\\+ platinum|' + # LG\n",
    "              'zenfone \\d|zenfone go|zenfone i+|' + # Asus\n",
    "              'cat \\w\\d{1,2}|' + # Caterpillar\n",
    "              'xperia \\w{1,2}\\d plus \\w*\\d{1,4}|xperia \\w{1,2}\\d \\w*\\d{1,4}|xperia \\w{1,2}\\d|' + # Sony\n",
    "              'ms\\d{1,2} \\w{1,6}|'+ # Multilaser\n",
    "              'vibe k\\d \\w*|k\\d \\w*|' + # Lenovo\n",
    "              'lumia \\d{1,3}\\w{1,2}|' + # Microsoft\n",
    "              'quattro \\w\\d{1,3}|' + # Positivo\n",
    "              'oneplus \\d|' + # Oneplus\n",
    "              'meizu \\w\\d\\w|' + # Meizu\n",
    "              'alcatel \\w\\d \\w{2} max?') # Alcatel\n",
    "\n",
    "res = {'MODELO': re_modelos,\n",
    "       'QTD_MEMORIA': re_qtds_memoria,\n",
    "       'QTD_ARMAZENAMENTO': re_qtds_armazenamento,}"
   ]
  },
  {
   "cell_type": "code",
   "execution_count": 39,
   "metadata": {},
   "outputs": [],
   "source": [
    "# Faz a busca dos specs em cada smartphone do conjunto da primeira fase\n",
    "for atributo, regex in res.items():\n",
    "    i = 0\n",
    "    encontrados = []\n",
    "    for smartphone in birdie_data['TITLE']:\n",
    "        encontrado = re.findall(regex, smartphone)\n",
    "        if encontrado:\n",
    "            # conserta regex de memoria/armazenamento\n",
    "            if re.findall('\\d{1,3} gb', encontrado[0]): # digito separado de 'gb'\n",
    "                encontrado[0] = encontrado[0].replace(' ', '')\n",
    "            if (encontrado[0][-1] in [',', '.', ' ','\\\\','/'] and # comeca e termina com algum desses caracteres\n",
    "                encontrado[0][0] in [',', '.', ' ','\\\\','/']):\n",
    "                encontrados.append(encontrado[0][1:-1].strip())\n",
    "            elif encontrado[0][-1] in [',', '.', ' ','\\\\','/']:  # termina com algum desses caracteres\n",
    "                encontrados.append(encontrado[0][:-1].strip())\n",
    "            elif encontrado[0][0] in [',', '.', ' ','\\\\','/']: # comeca com algum desses caracteres\n",
    "                encontrados.append(encontrado[0][1:].strip())\n",
    "            # Caso mais geral\n",
    "            else:\n",
    "                encontrados.append(encontrado[0].strip()) # nao comeca nem termina com algum desses caracteres\n",
    "        # Nao encontrou\n",
    "        else: \n",
    "            encontrados.append('')\n",
    "        i += 1\n",
    "    \n",
    "    birdie_data[atributo] = encontrados\n",
    "    birdie_data.reset_index(drop=True,inplace=True)"
   ]
  },
  {
   "cell_type": "code",
   "execution_count": 40,
   "metadata": {},
   "outputs": [],
   "source": [
    "# Faz a busca dos specs em cada smartphone do conjunto crawleado\n",
    "for atributo, regex in res.items():\n",
    "    i = 0\n",
    "    encontrados = []\n",
    "    for smartphone in submarino_data['TITLE']:\n",
    "        encontrado = re.findall(regex, smartphone)\n",
    "        if encontrado:\n",
    "            # conserta regex de memoria/armazenamento\n",
    "            if re.findall('\\d{1,3} gb', encontrado[0]): # digito separado de 'gb'\n",
    "                encontrado[0] = encontrado[0].replace(' ', '')\n",
    "            if (encontrado[0][-1] in [',', '.', ' ','\\\\','/'] and # comeca e termina com algum desses caracteres\n",
    "                encontrado[0][0] in [',', '.', ' ','\\\\','/']):\n",
    "                encontrados.append(encontrado[0][1:-1].strip())\n",
    "            elif encontrado[0][-1] in [',', '.', ' ','\\\\','/']:  # termina com algum desses caracteres\n",
    "                encontrados.append(encontrado[0][:-1].strip())\n",
    "            elif encontrado[0][0] in [',', '.', ' ','\\\\','/']: # comeca com algum desses caracteres\n",
    "                encontrados.append(encontrado[0][1:].strip())\n",
    "            # Caso mais geral\n",
    "            else:\n",
    "                encontrados.append(encontrado[0].strip()) # nao comeca nem termina com algum desses caracteres\n",
    "        # Nao encontrou\n",
    "        else: \n",
    "            encontrados.append('')\n",
    "        i += 1\n",
    "    \n",
    "    submarino_data[atributo] = encontrados\n",
    "    submarino_data.reset_index(drop=True,inplace=True)"
   ]
  },
  {
   "cell_type": "markdown",
   "metadata": {},
   "source": [
    "# Analisando os resultados"
   ]
  },
  {
   "cell_type": "code",
   "execution_count": 41,
   "metadata": {
    "scrolled": false
   },
   "outputs": [
    {
     "name": "stdout",
     "output_type": "stream",
     "text": [
      "tamanho: 26\n"
     ]
    },
    {
     "data": {
      "text/html": [
       "<div>\n",
       "<style scoped>\n",
       "    .dataframe tbody tr th:only-of-type {\n",
       "        vertical-align: middle;\n",
       "    }\n",
       "\n",
       "    .dataframe tbody tr th {\n",
       "        vertical-align: top;\n",
       "    }\n",
       "\n",
       "    .dataframe thead th {\n",
       "        text-align: right;\n",
       "    }\n",
       "</style>\n",
       "<table border=\"1\" class=\"dataframe\">\n",
       "  <thead>\n",
       "    <tr style=\"text-align: right;\">\n",
       "      <th></th>\n",
       "      <th>TITLE</th>\n",
       "      <th>MODELO</th>\n",
       "      <th>QTD_MEMORIA</th>\n",
       "      <th>QTD_ARMAZENAMENTO</th>\n",
       "    </tr>\n",
       "  </thead>\n",
       "  <tbody>\n",
       "    <tr>\n",
       "      <th>4</th>\n",
       "      <td>smartphone lg l90 dual d410 preto com tela de ...</td>\n",
       "      <td></td>\n",
       "      <td></td>\n",
       "      <td></td>\n",
       "    </tr>\n",
       "    <tr>\n",
       "      <th>12</th>\n",
       "      <td>smartphone alcatel one touch pop c7 branco com...</td>\n",
       "      <td></td>\n",
       "      <td></td>\n",
       "      <td></td>\n",
       "    </tr>\n",
       "    <tr>\n",
       "      <th>69</th>\n",
       "      <td>smartphone samsung galaxy on7 g600fy 4g, dual,...</td>\n",
       "      <td></td>\n",
       "      <td></td>\n",
       "      <td>16gb</td>\n",
       "    </tr>\n",
       "    <tr>\n",
       "      <th>126</th>\n",
       "      <td>celular alcatel pixi 4 - 5010e lite, dual chip...</td>\n",
       "      <td></td>\n",
       "      <td>8gb</td>\n",
       "      <td></td>\n",
       "    </tr>\n",
       "    <tr>\n",
       "      <th>127</th>\n",
       "      <td>celular smartphone tp-link neffos c5l 4g lte 4...</td>\n",
       "      <td></td>\n",
       "      <td>8gb</td>\n",
       "      <td></td>\n",
       "    </tr>\n",
       "  </tbody>\n",
       "</table>\n",
       "</div>"
      ],
      "text/plain": [
       "                                                 TITLE MODELO QTD_MEMORIA  \\\n",
       "4    smartphone lg l90 dual d410 preto com tela de ...                      \n",
       "12   smartphone alcatel one touch pop c7 branco com...                      \n",
       "69   smartphone samsung galaxy on7 g600fy 4g, dual,...                      \n",
       "126  celular alcatel pixi 4 - 5010e lite, dual chip...                8gb   \n",
       "127  celular smartphone tp-link neffos c5l 4g lte 4...                8gb   \n",
       "\n",
       "    QTD_ARMAZENAMENTO  \n",
       "4                      \n",
       "12                     \n",
       "69               16gb  \n",
       "126                    \n",
       "127                    "
      ]
     },
     "execution_count": 41,
     "metadata": {},
     "output_type": "execute_result"
    }
   ],
   "source": [
    "# Casos sem MODELO\n",
    "df1 = birdie_data[birdie_data['MODELO'] == '']\n",
    "\n",
    "print('tamanho:', len(df1))\n",
    "\n",
    "df1.head(5)"
   ]
  },
  {
   "cell_type": "code",
   "execution_count": 42,
   "metadata": {},
   "outputs": [
    {
     "name": "stdout",
     "output_type": "stream",
     "text": [
      "tamanho: 110\n"
     ]
    },
    {
     "data": {
      "text/html": [
       "<div>\n",
       "<style scoped>\n",
       "    .dataframe tbody tr th:only-of-type {\n",
       "        vertical-align: middle;\n",
       "    }\n",
       "\n",
       "    .dataframe tbody tr th {\n",
       "        vertical-align: top;\n",
       "    }\n",
       "\n",
       "    .dataframe thead th {\n",
       "        text-align: right;\n",
       "    }\n",
       "</style>\n",
       "<table border=\"1\" class=\"dataframe\">\n",
       "  <thead>\n",
       "    <tr style=\"text-align: right;\">\n",
       "      <th></th>\n",
       "      <th>TITLE</th>\n",
       "      <th>MODELO</th>\n",
       "      <th>QTD_MEMORIA</th>\n",
       "      <th>QTD_ARMAZENAMENTO</th>\n",
       "    </tr>\n",
       "  </thead>\n",
       "  <tbody>\n",
       "    <tr>\n",
       "      <th>1</th>\n",
       "      <td>smartphone samsung galaxy s4 mini duos preto c...</td>\n",
       "      <td>galaxy s4 mini</td>\n",
       "      <td></td>\n",
       "      <td></td>\n",
       "    </tr>\n",
       "    <tr>\n",
       "      <th>2</th>\n",
       "      <td>smartphone  samsung galaxy s5 sm-g900m branco ...</td>\n",
       "      <td>galaxy s5</td>\n",
       "      <td></td>\n",
       "      <td></td>\n",
       "    </tr>\n",
       "    <tr>\n",
       "      <th>3</th>\n",
       "      <td>smartphone  samsung galaxy s5 sm-g900m dourado...</td>\n",
       "      <td>galaxy s5</td>\n",
       "      <td></td>\n",
       "      <td></td>\n",
       "    </tr>\n",
       "    <tr>\n",
       "      <th>4</th>\n",
       "      <td>smartphone lg l90 dual d410 preto com tela de ...</td>\n",
       "      <td></td>\n",
       "      <td></td>\n",
       "      <td></td>\n",
       "    </tr>\n",
       "    <tr>\n",
       "      <th>5</th>\n",
       "      <td>smartphone  samsung galaxy core plus branco co...</td>\n",
       "      <td>galaxy core plus</td>\n",
       "      <td></td>\n",
       "      <td></td>\n",
       "    </tr>\n",
       "  </tbody>\n",
       "</table>\n",
       "</div>"
      ],
      "text/plain": [
       "                                               TITLE            MODELO  \\\n",
       "1  smartphone samsung galaxy s4 mini duos preto c...    galaxy s4 mini   \n",
       "2  smartphone  samsung galaxy s5 sm-g900m branco ...         galaxy s5   \n",
       "3  smartphone  samsung galaxy s5 sm-g900m dourado...         galaxy s5   \n",
       "4  smartphone lg l90 dual d410 preto com tela de ...                     \n",
       "5  smartphone  samsung galaxy core plus branco co...  galaxy core plus   \n",
       "\n",
       "  QTD_MEMORIA QTD_ARMAZENAMENTO  \n",
       "1                                \n",
       "2                                \n",
       "3                                \n",
       "4                                \n",
       "5                                "
      ]
     },
     "execution_count": 42,
     "metadata": {},
     "output_type": "execute_result"
    }
   ],
   "source": [
    "# Casos sem QTD_ARMAZENAMENTO e sem QTD_MEMORIA\n",
    "df2 = birdie_data[(birdie_data['QTD_ARMAZENAMENTO'] == '') &\n",
    "                  (birdie_data['QTD_MEMORIA'] == '' )]\n",
    "\n",
    "print('tamanho:', len(df2))\n",
    "\n",
    "df2.head(5)"
   ]
  },
  {
   "cell_type": "code",
   "execution_count": 43,
   "metadata": {
    "scrolled": true
   },
   "outputs": [
    {
     "name": "stdout",
     "output_type": "stream",
     "text": [
      "tamanho: 419\n"
     ]
    },
    {
     "data": {
      "text/html": [
       "<div>\n",
       "<style scoped>\n",
       "    .dataframe tbody tr th:only-of-type {\n",
       "        vertical-align: middle;\n",
       "    }\n",
       "\n",
       "    .dataframe tbody tr th {\n",
       "        vertical-align: top;\n",
       "    }\n",
       "\n",
       "    .dataframe thead th {\n",
       "        text-align: right;\n",
       "    }\n",
       "</style>\n",
       "<table border=\"1\" class=\"dataframe\">\n",
       "  <thead>\n",
       "    <tr style=\"text-align: right;\">\n",
       "      <th></th>\n",
       "      <th>TITLE</th>\n",
       "      <th>MODELO</th>\n",
       "      <th>QTD_MEMORIA</th>\n",
       "      <th>QTD_ARMAZENAMENTO</th>\n",
       "    </tr>\n",
       "  </thead>\n",
       "  <tbody>\n",
       "    <tr>\n",
       "      <th>0</th>\n",
       "      <td>smartphone lg optimus l7 ii dual p716 preto co...</td>\n",
       "      <td>optimus l7</td>\n",
       "      <td>4gb</td>\n",
       "      <td></td>\n",
       "    </tr>\n",
       "    <tr>\n",
       "      <th>1</th>\n",
       "      <td>smartphone samsung galaxy s4 mini duos preto c...</td>\n",
       "      <td>galaxy s4 mini</td>\n",
       "      <td></td>\n",
       "      <td></td>\n",
       "    </tr>\n",
       "    <tr>\n",
       "      <th>2</th>\n",
       "      <td>smartphone  samsung galaxy s5 sm-g900m branco ...</td>\n",
       "      <td>galaxy s5</td>\n",
       "      <td></td>\n",
       "      <td></td>\n",
       "    </tr>\n",
       "    <tr>\n",
       "      <th>3</th>\n",
       "      <td>smartphone  samsung galaxy s5 sm-g900m dourado...</td>\n",
       "      <td>galaxy s5</td>\n",
       "      <td></td>\n",
       "      <td></td>\n",
       "    </tr>\n",
       "    <tr>\n",
       "      <th>4</th>\n",
       "      <td>smartphone lg l90 dual d410 preto com tela de ...</td>\n",
       "      <td></td>\n",
       "      <td></td>\n",
       "      <td></td>\n",
       "    </tr>\n",
       "  </tbody>\n",
       "</table>\n",
       "</div>"
      ],
      "text/plain": [
       "                                               TITLE          MODELO  \\\n",
       "0  smartphone lg optimus l7 ii dual p716 preto co...      optimus l7   \n",
       "1  smartphone samsung galaxy s4 mini duos preto c...  galaxy s4 mini   \n",
       "2  smartphone  samsung galaxy s5 sm-g900m branco ...       galaxy s5   \n",
       "3  smartphone  samsung galaxy s5 sm-g900m dourado...       galaxy s5   \n",
       "4  smartphone lg l90 dual d410 preto com tela de ...                   \n",
       "\n",
       "  QTD_MEMORIA QTD_ARMAZENAMENTO  \n",
       "0         4gb                    \n",
       "1                                \n",
       "2                                \n",
       "3                                \n",
       "4                                "
      ]
     },
     "execution_count": 43,
     "metadata": {},
     "output_type": "execute_result"
    }
   ],
   "source": [
    "# Casos em que pelo menos algum spec está faltando\n",
    "df3 = birdie_data[((birdie_data['QTD_ARMAZENAMENTO'] == '') |\n",
    "                  (birdie_data['QTD_MEMORIA'] == '' ) |\n",
    "                  (birdie_data['MODELO'] == '' ))]\n",
    "\n",
    "print('tamanho:', len(df3))\n",
    "\n",
    "df3.head()"
   ]
  },
  {
   "cell_type": "code",
   "execution_count": 44,
   "metadata": {},
   "outputs": [
    {
     "name": "stdout",
     "output_type": "stream",
     "text": [
      "tamanho: 8\n"
     ]
    },
    {
     "data": {
      "text/html": [
       "<div>\n",
       "<style scoped>\n",
       "    .dataframe tbody tr th:only-of-type {\n",
       "        vertical-align: middle;\n",
       "    }\n",
       "\n",
       "    .dataframe tbody tr th {\n",
       "        vertical-align: top;\n",
       "    }\n",
       "\n",
       "    .dataframe thead th {\n",
       "        text-align: right;\n",
       "    }\n",
       "</style>\n",
       "<table border=\"1\" class=\"dataframe\">\n",
       "  <thead>\n",
       "    <tr style=\"text-align: right;\">\n",
       "      <th></th>\n",
       "      <th>TITLE</th>\n",
       "      <th>MODELO</th>\n",
       "      <th>QTD_MEMORIA</th>\n",
       "      <th>QTD_ARMAZENAMENTO</th>\n",
       "    </tr>\n",
       "  </thead>\n",
       "  <tbody>\n",
       "    <tr>\n",
       "      <th>4</th>\n",
       "      <td>smartphone lg l90 dual d410 preto com tela de ...</td>\n",
       "      <td></td>\n",
       "      <td></td>\n",
       "      <td></td>\n",
       "    </tr>\n",
       "    <tr>\n",
       "      <th>12</th>\n",
       "      <td>smartphone alcatel one touch pop c7 branco com...</td>\n",
       "      <td></td>\n",
       "      <td></td>\n",
       "      <td></td>\n",
       "    </tr>\n",
       "    <tr>\n",
       "      <th>152</th>\n",
       "      <td>motorola i867 ferrari</td>\n",
       "      <td></td>\n",
       "      <td></td>\n",
       "      <td></td>\n",
       "    </tr>\n",
       "    <tr>\n",
       "      <th>155</th>\n",
       "      <td>celular j7 prime2 tv dourado + nota fiscal + l...</td>\n",
       "      <td></td>\n",
       "      <td></td>\n",
       "      <td></td>\n",
       "    </tr>\n",
       "    <tr>\n",
       "      <th>190</th>\n",
       "      <td>samsung galaxy grand prime+ plus lacrado 4g me...</td>\n",
       "      <td></td>\n",
       "      <td></td>\n",
       "      <td></td>\n",
       "    </tr>\n",
       "  </tbody>\n",
       "</table>\n",
       "</div>"
      ],
      "text/plain": [
       "                                                 TITLE MODELO QTD_MEMORIA  \\\n",
       "4    smartphone lg l90 dual d410 preto com tela de ...                      \n",
       "12   smartphone alcatel one touch pop c7 branco com...                      \n",
       "152                              motorola i867 ferrari                      \n",
       "155  celular j7 prime2 tv dourado + nota fiscal + l...                      \n",
       "190  samsung galaxy grand prime+ plus lacrado 4g me...                      \n",
       "\n",
       "    QTD_ARMAZENAMENTO  \n",
       "4                      \n",
       "12                     \n",
       "152                    \n",
       "155                    \n",
       "190                    "
      ]
     },
     "execution_count": 44,
     "metadata": {},
     "output_type": "execute_result"
    }
   ],
   "source": [
    "# Casos em que nenhum specs esta presente\n",
    "df4 = birdie_data[((birdie_data['QTD_ARMAZENAMENTO'] == '') &\n",
    "                  (birdie_data['QTD_MEMORIA'] == '' ) &\n",
    "                  (birdie_data['MODELO'] == '' ))]\n",
    "\n",
    "print('tamanho:', len(df4))\n",
    "\n",
    "df4.head()"
   ]
  },
  {
   "cell_type": "code",
   "execution_count": 45,
   "metadata": {
    "scrolled": true
   },
   "outputs": [
    {
     "name": "stdout",
     "output_type": "stream",
     "text": [
      "tamanho: 169\n"
     ]
    },
    {
     "data": {
      "text/html": [
       "<div>\n",
       "<style scoped>\n",
       "    .dataframe tbody tr th:only-of-type {\n",
       "        vertical-align: middle;\n",
       "    }\n",
       "\n",
       "    .dataframe tbody tr th {\n",
       "        vertical-align: top;\n",
       "    }\n",
       "\n",
       "    .dataframe thead th {\n",
       "        text-align: right;\n",
       "    }\n",
       "</style>\n",
       "<table border=\"1\" class=\"dataframe\">\n",
       "  <thead>\n",
       "    <tr style=\"text-align: right;\">\n",
       "      <th></th>\n",
       "      <th>TITLE</th>\n",
       "      <th>MODELO</th>\n",
       "      <th>QTD_MEMORIA</th>\n",
       "      <th>QTD_ARMAZENAMENTO</th>\n",
       "    </tr>\n",
       "  </thead>\n",
       "  <tbody>\n",
       "    <tr>\n",
       "      <th>35</th>\n",
       "      <td>smartphone lenovo vibe k6 plus grafite com 32g...</td>\n",
       "      <td>vibe k6 plus</td>\n",
       "      <td>3gb</td>\n",
       "      <td>32gb</td>\n",
       "    </tr>\n",
       "    <tr>\n",
       "      <th>36</th>\n",
       "      <td>smartphone lenovo vibe k6 plus dourado com 32g...</td>\n",
       "      <td>vibe k6 plus</td>\n",
       "      <td>3gb</td>\n",
       "      <td>32gb</td>\n",
       "    </tr>\n",
       "    <tr>\n",
       "      <th>37</th>\n",
       "      <td>smartphone samsung galaxy s7 edge black piano ...</td>\n",
       "      <td>galaxy s7 edge</td>\n",
       "      <td>4gb</td>\n",
       "      <td>128gb</td>\n",
       "    </tr>\n",
       "    <tr>\n",
       "      <th>44</th>\n",
       "      <td>smartphone asus zenfone 3 max zc553kl cinza co...</td>\n",
       "      <td>zenfone 3</td>\n",
       "      <td>3gb</td>\n",
       "      <td>32gb</td>\n",
       "    </tr>\n",
       "    <tr>\n",
       "      <th>48</th>\n",
       "      <td>smartphone asus zenfone 3 zoom ze553kl preto c...</td>\n",
       "      <td>zenfone 3</td>\n",
       "      <td>4gb</td>\n",
       "      <td>64gb</td>\n",
       "    </tr>\n",
       "  </tbody>\n",
       "</table>\n",
       "</div>"
      ],
      "text/plain": [
       "                                                TITLE          MODELO  \\\n",
       "35  smartphone lenovo vibe k6 plus grafite com 32g...    vibe k6 plus   \n",
       "36  smartphone lenovo vibe k6 plus dourado com 32g...    vibe k6 plus   \n",
       "37  smartphone samsung galaxy s7 edge black piano ...  galaxy s7 edge   \n",
       "44  smartphone asus zenfone 3 max zc553kl cinza co...       zenfone 3   \n",
       "48  smartphone asus zenfone 3 zoom ze553kl preto c...       zenfone 3   \n",
       "\n",
       "   QTD_MEMORIA QTD_ARMAZENAMENTO  \n",
       "35         3gb              32gb  \n",
       "36         3gb              32gb  \n",
       "37         4gb             128gb  \n",
       "44         3gb              32gb  \n",
       "48         4gb              64gb  "
      ]
     },
     "execution_count": 45,
     "metadata": {},
     "output_type": "execute_result"
    }
   ],
   "source": [
    "# Casos em que todos os specs estao presentes\n",
    "df5 = birdie_data[((birdie_data['QTD_ARMAZENAMENTO'] != '') &\n",
    "                  (birdie_data['QTD_MEMORIA'] != '' ) &\n",
    "                  (birdie_data['MODELO'] != '' ))]\n",
    "\n",
    "print('tamanho:', len(df5))\n",
    "\n",
    "df5.head()"
   ]
  },
  {
   "cell_type": "code",
   "execution_count": 46,
   "metadata": {},
   "outputs": [
    {
     "name": "stdout",
     "output_type": "stream",
     "text": [
      "smartphones sem modelo 0.04421768707482993\n",
      "pelo menos um spec faltando: 0.7125850340136054\n",
      "todos os specs presentes: 0.28741496598639454\n"
     ]
    }
   ],
   "source": [
    "# Proporcoes\n",
    "\n",
    "print('smartphones sem modelo', len(df1)/len(birdie_data)) # spec mais relevante\n",
    "print('pelo menos um spec faltando:', len(df3)/len(birdie_data))\n",
    "print('todos os specs presentes:', len(df5)/len(birdie_data))"
   ]
  },
  {
   "cell_type": "code",
   "execution_count": 47,
   "metadata": {},
   "outputs": [
    {
     "data": {
      "text/plain": [
       "4      smartphone lg l90 dual d410 preto com tela de ...\n",
       "12     smartphone alcatel one touch pop c7 branco com...\n",
       "69     smartphone samsung galaxy on7 g600fy 4g, dual,...\n",
       "126    celular alcatel pixi 4 - 5010e lite, dual chip...\n",
       "127    celular smartphone tp-link neffos c5l 4g lte 4...\n",
       "152                                motorola i867 ferrari\n",
       "155    celular j7 prime2 tv dourado + nota fiscal + l...\n",
       "162    smartphone cat caterpillar s60 lte 32gb !! pro...\n",
       "190    samsung galaxy grand prime+ plus lacrado 4g me...\n",
       "193    iphone apple 8 64gb plus debloq s/juros leia a...\n",
       "205    samsung galaxy k zoom c115 20mp 4g wifi tela d...\n",
       "218    celular motorola g5 32gb android tela 5 câmera...\n",
       "233                          nextel motorola i867 branco\n",
       "269    iphone apple x 256gb orig grt apple leia anunc...\n",
       "289    iphone apple x 64gb novo lacrado 5.8 garantia ...\n",
       "302    samsung a7 2017 64gb novo a720 lacrado anatel ...\n",
       "313    samsung a8 + plus a730 lançamento 64gb tela 6 ...\n",
       "344    celular barato original motorola g5 s 32gb env...\n",
       "369    celular positivo twist mini tela 4.0 8mp 8gb 3...\n",
       "385    samsung a7 2017 a720f promoção semi novo nf an...\n",
       "Name: TITLE, dtype: object"
      ]
     },
     "execution_count": 47,
     "metadata": {},
     "output_type": "execute_result"
    }
   ],
   "source": [
    "birdie_data['TITLE'][birdie_data['MODELO'] == ''].head(20)\n",
    "\n",
    "# Dados com informação faltando/muito desordenados"
   ]
  },
  {
   "cell_type": "code",
   "execution_count": 48,
   "metadata": {
    "scrolled": false
   },
   "outputs": [
    {
     "name": "stdout",
     "output_type": "stream",
     "text": [
      "['optimus l7' 'galaxy s4 mini' 'galaxy s5' '' 'galaxy core plus'\n",
      " 'galaxy pocket 2 duos' 'galaxy ace 4 lite duos' 'g2 lite'\n",
      " 'galaxy young 2 duos' 'galaxy win 2 duos' 'galaxy ace 4 duos' 'galaxy a7'\n",
      " 'galaxy e5' 'galaxy a5' 'galaxy s6 edge' 'lumia 640xl' 'quattro x435'\n",
      " 'k4' 'k10' 'ms50 colors' 'ms50 senior' 'zenfone ii' 'zenfone 2'\n",
      " 'galaxy j2 prime' 'vibe k6 plus' 'galaxy s7 edge' 'zenfone 3' 'galaxy s8'\n",
      " 'moto e4 plus' 'moto e4' 'moto c plus' 'moto z2' 'galaxy j7'\n",
      " 'q6+ platinum' 'moto g5' 'zenfone 4' 'xperia xa1 g3116'\n",
      " 'xperia xa1 plus g3426' 'xperia xz1 g8341' 'iphone 8' 'galaxy a8'\n",
      " 'galaxy s9' 'moto g6' 'moto g6 plus' 'iphone 8 plus' 'moto e5' 'moto z3'\n",
      " 'k9' '10 lite' 'galaxy s8+' 'galaxy j7 prime' 'galaxy s9+' 'iphone 5'\n",
      " 'galaxy s3' 'iphone 6' 'cat s61' 'galaxy pocket plus' 'galaxy j5 prime'\n",
      " 'moto g' 'mi a1' 'cat s60' 'xperia xz1' 'moto g4' 'moto c'\n",
      " 'galaxy s5 mini' 'redmi note 4' 'iphone 4' 'moto g4 plus' 'galaxy j5'\n",
      " 'mi s2' 'mi a2' 'mi 8' 'iphone 7' 'alcatel a3 xl max' 'iphone x'\n",
      " 'redmi note 5' 'galaxy j2' 'mi 5' 'motorola c plus' 'iphone 7 plus'\n",
      " 'iphone 6 plus' 'mi 6' 'xperia xa1' 'mi 3' 'oneplus 6' 'moto x4'\n",
      " 'galaxy j4' 'moto g5 plus' 'moto e5 plus' 'mi mix 2s' 'p20 lite' 'k8'\n",
      " 'meizu m5c' 'pocophone f1' 'galaxy j8' 'galaxy j6' 'nextel i867']\n"
     ]
    }
   ],
   "source": [
    "# Todos os modelos encontrados\n",
    "print(birdie_data['MODELO'].unique())"
   ]
  },
  {
   "cell_type": "code",
   "execution_count": 49,
   "metadata": {},
   "outputs": [
    {
     "name": "stdout",
     "output_type": "stream",
     "text": [
      "['4gb' '' '8gb' '3gb' '2gb' '6gb']\n"
     ]
    }
   ],
   "source": [
    "# Qtds de memoria encontradas\n",
    "print(birdie_data['QTD_MEMORIA'].unique())"
   ]
  },
  {
   "cell_type": "code",
   "execution_count": 50,
   "metadata": {},
   "outputs": [
    {
     "name": "stdout",
     "output_type": "stream",
     "text": [
      "['' '64gb' '16gb' '32gb' '128gb' '256gb']\n"
     ]
    }
   ],
   "source": [
    "# Qtds de armazenamento encontrados\n",
    "print(birdie_data['QTD_ARMAZENAMENTO'].unique())"
   ]
  },
  {
   "cell_type": "markdown",
   "metadata": {},
   "source": [
    "# Matching\n",
    "Foi considerado match somente quando os casos são identicos (100% iguais). Isso foi determinado pois até mesmo 1 caracter de diferença pode diferenciar dois modelos (i.e. Galaxy s6, Galaxy s7. Ou Galaxy s6 4gb, Galaxy s6 2gb)"
   ]
  },
  {
   "cell_type": "code",
   "execution_count": 51,
   "metadata": {},
   "outputs": [],
   "source": [
    "# Transforma uma linha do dataset em uma string\n",
    "# Exeplo: | Galaxy s6 edge | 4gb | 64gb | torna-se Galaxy s6 edge 4gb 64gb\n",
    "birdie_smartphones = []\n",
    "smartphone = ''\n",
    "for i in range(len(birdie_data)):\n",
    "    for attribute in birdie_data.columns[1:]:\n",
    "        spec = str(birdie_data[attribute][i])\n",
    "        if spec == '':\n",
    "            pass\n",
    "        else:\n",
    "            smartphone += spec + ' '\n",
    "        \n",
    "    smartphone = smartphone.strip()\n",
    "    birdie_smartphones.append(smartphone)\n",
    "    smartphone = ''"
   ]
  },
  {
   "cell_type": "code",
   "execution_count": 52,
   "metadata": {},
   "outputs": [],
   "source": [
    "# Faz o mesmo que a celula acima, porem com o dataset crawleado\n",
    "submarino_smartphones = []\n",
    "smartphone = ''\n",
    "for i in range(len(submarino_data)):\n",
    "    for attribute in submarino_data.columns[1:]:\n",
    "        spec = str(submarino_data[attribute][i])\n",
    "        if spec == '':\n",
    "            pass\n",
    "        else:\n",
    "            smartphone += spec + ' '\n",
    "        \n",
    "    smartphone = smartphone.strip()\n",
    "    submarino_smartphones.append(smartphone)\n",
    "    smartphone = ''"
   ]
  },
  {
   "cell_type": "code",
   "execution_count": 53,
   "metadata": {},
   "outputs": [
    {
     "data": {
      "text/plain": [
       "['galaxy j6 32gb',\n",
       " 'iphone x 256gb',\n",
       " 'galaxy j7 8gb 64gb',\n",
       " 'redmi note 5 4gb 64gb',\n",
       " 'redmi note 5 3gb 32gb',\n",
       " 'nextel i867',\n",
       " 'galaxy s9 128gb',\n",
       " 'iphone x 64gb',\n",
       " 'mi 6 3gb 32gb',\n",
       " 'nextel i867']"
      ]
     },
     "execution_count": 53,
     "metadata": {},
     "output_type": "execute_result"
    }
   ],
   "source": [
    "birdie_smartphones[-10:]"
   ]
  },
  {
   "cell_type": "code",
   "execution_count": 54,
   "metadata": {},
   "outputs": [
    {
     "data": {
      "text/plain": [
       "['moto g 8gb',\n",
       " '',\n",
       " 'galaxy s5 mini 16gb',\n",
       " 'galaxy s5 16gb',\n",
       " 'galaxy s5 16gb',\n",
       " 'galaxy s5 16gb',\n",
       " 'ms6 com',\n",
       " 'galaxy s6 edge 32gb',\n",
       " '',\n",
       " 'galaxy s7 32gb']"
      ]
     },
     "execution_count": 54,
     "metadata": {},
     "output_type": "execute_result"
    }
   ],
   "source": [
    "submarino_smartphones[-10:]"
   ]
  },
  {
   "cell_type": "code",
   "execution_count": 55,
   "metadata": {
    "scrolled": true
   },
   "outputs": [
    {
     "name": "stderr",
     "output_type": "stream",
     "text": [
      "WARNING:root:Applied processor reduces input query to empty string, all comparisons will have score 0. [Query: '']\n",
      "WARNING:root:Applied processor reduces input query to empty string, all comparisons will have score 0. [Query: '']\n",
      "WARNING:root:Applied processor reduces input query to empty string, all comparisons will have score 0. [Query: '']\n",
      "WARNING:root:Applied processor reduces input query to empty string, all comparisons will have score 0. [Query: '']\n",
      "WARNING:root:Applied processor reduces input query to empty string, all comparisons will have score 0. [Query: '']\n",
      "WARNING:root:Applied processor reduces input query to empty string, all comparisons will have score 0. [Query: '']\n",
      "WARNING:root:Applied processor reduces input query to empty string, all comparisons will have score 0. [Query: '']\n",
      "WARNING:root:Applied processor reduces input query to empty string, all comparisons will have score 0. [Query: '']\n"
     ]
    }
   ],
   "source": [
    "# Compara um exemplo de birdie_smartphones com todos os de submarino_smartphones\n",
    "# Um match acontecera se ambos forem identicos\n",
    "matches = []\n",
    "i = 0\n",
    "for smartphone in birdie_smartphones:\n",
    "    match = process.extractOne(smartphone, submarino_smartphones, score_cutoff=100)\n",
    "    matches.append(match)"
   ]
  },
  {
   "cell_type": "code",
   "execution_count": 56,
   "metadata": {},
   "outputs": [],
   "source": [
    "# Pega os indices do dataset crawleado onde houve match\n",
    "indices = []\n",
    "for match in matches:\n",
    "    if match:\n",
    "        indices.append(submarino_smartphones.index(match[0]))\n",
    "    else:\n",
    "        indices.append(None)"
   ]
  },
  {
   "cell_type": "code",
   "execution_count": 57,
   "metadata": {},
   "outputs": [],
   "source": [
    "# Gera o dataset final\n",
    "\n",
    "smartphones = []\n",
    "modelos = []\n",
    "qtds_memoria = []\n",
    "qtds_armazenamento = []\n",
    "\n",
    "birdie_i = 0\n",
    "for submarino_i in indices:\n",
    "    if submarino_i:\n",
    "        smartphone = submarino_data.iloc[submarino_i, 0]\n",
    "        modelo = submarino_data.iloc[submarino_i, 1]\n",
    "        qtd_memoria = submarino_data.iloc[submarino_i, 2]\n",
    "        qtd_armazenamento = submarino_data.iloc[submarino_i, 3]\n",
    "    else:\n",
    "        smartphone = ''\n",
    "        modelo = birdie_data.iloc[birdie_i, 1]\n",
    "        qtd_memoria = birdie_data.iloc[birdie_i, 2]\n",
    "        qtd_armazenamento = birdie_data.iloc[birdie_i, 3]\n",
    "        \n",
    "    birdie_i += 1\n",
    "        \n",
    "    smartphones.append(smartphone)\n",
    "    modelos.append(modelo)\n",
    "    qtds_memoria.append(qtd_memoria)\n",
    "    qtds_armazenamento.append(qtd_armazenamento)\n",
    "    \n",
    "resultados = pd.DataFrame(columns=['BIRDIE','SUBMARINO'])\n",
    "resultados['BIRDIE'] = birdie_data.iloc[:, 0]\n",
    "resultados['SUBMARINO'] = smartphones\n",
    "resultados['MODELO'] = modelos\n",
    "resultados['QTD_MEMORIA'] = qtds_memoria\n",
    "resultados['QTD_ARMAZENAMENTO'] = qtds_armazenamento"
   ]
  },
  {
   "cell_type": "code",
   "execution_count": 58,
   "metadata": {
    "scrolled": true
   },
   "outputs": [
    {
     "data": {
      "text/html": [
       "<div>\n",
       "<style scoped>\n",
       "    .dataframe tbody tr th:only-of-type {\n",
       "        vertical-align: middle;\n",
       "    }\n",
       "\n",
       "    .dataframe tbody tr th {\n",
       "        vertical-align: top;\n",
       "    }\n",
       "\n",
       "    .dataframe thead th {\n",
       "        text-align: right;\n",
       "    }\n",
       "</style>\n",
       "<table border=\"1\" class=\"dataframe\">\n",
       "  <thead>\n",
       "    <tr style=\"text-align: right;\">\n",
       "      <th></th>\n",
       "      <th>BIRDIE</th>\n",
       "      <th>SUBMARINO</th>\n",
       "      <th>MODELO</th>\n",
       "      <th>QTD_MEMORIA</th>\n",
       "      <th>QTD_ARMAZENAMENTO</th>\n",
       "    </tr>\n",
       "  </thead>\n",
       "  <tbody>\n",
       "    <tr>\n",
       "      <th>0</th>\n",
       "      <td>smartphone lg optimus l7 ii dual p716 preto co...</td>\n",
       "      <td>smartphone lg optimus l7 ii desbloqueado tim a...</td>\n",
       "      <td>optimus l7</td>\n",
       "      <td>4gb</td>\n",
       "      <td></td>\n",
       "    </tr>\n",
       "    <tr>\n",
       "      <th>1</th>\n",
       "      <td>smartphone samsung galaxy s4 mini duos preto c...</td>\n",
       "      <td>smartphone samsung galaxy s4 mini duos - tela ...</td>\n",
       "      <td>galaxy s4 mini</td>\n",
       "      <td></td>\n",
       "      <td></td>\n",
       "    </tr>\n",
       "    <tr>\n",
       "      <th>2</th>\n",
       "      <td>smartphone  samsung galaxy s5 sm-g900m branco ...</td>\n",
       "      <td>smartphone samsung galaxy s5 - preto</td>\n",
       "      <td>galaxy s5</td>\n",
       "      <td></td>\n",
       "      <td></td>\n",
       "    </tr>\n",
       "    <tr>\n",
       "      <th>3</th>\n",
       "      <td>smartphone  samsung galaxy s5 sm-g900m dourado...</td>\n",
       "      <td>smartphone samsung galaxy s5 - preto</td>\n",
       "      <td>galaxy s5</td>\n",
       "      <td></td>\n",
       "      <td></td>\n",
       "    </tr>\n",
       "    <tr>\n",
       "      <th>4</th>\n",
       "      <td>smartphone lg l90 dual d410 preto com tela de ...</td>\n",
       "      <td></td>\n",
       "      <td></td>\n",
       "      <td></td>\n",
       "      <td></td>\n",
       "    </tr>\n",
       "  </tbody>\n",
       "</table>\n",
       "</div>"
      ],
      "text/plain": [
       "                                              BIRDIE  \\\n",
       "0  smartphone lg optimus l7 ii dual p716 preto co...   \n",
       "1  smartphone samsung galaxy s4 mini duos preto c...   \n",
       "2  smartphone  samsung galaxy s5 sm-g900m branco ...   \n",
       "3  smartphone  samsung galaxy s5 sm-g900m dourado...   \n",
       "4  smartphone lg l90 dual d410 preto com tela de ...   \n",
       "\n",
       "                                           SUBMARINO          MODELO  \\\n",
       "0  smartphone lg optimus l7 ii desbloqueado tim a...      optimus l7   \n",
       "1  smartphone samsung galaxy s4 mini duos - tela ...  galaxy s4 mini   \n",
       "2               smartphone samsung galaxy s5 - preto       galaxy s5   \n",
       "3               smartphone samsung galaxy s5 - preto       galaxy s5   \n",
       "4                                                                      \n",
       "\n",
       "  QTD_MEMORIA QTD_ARMAZENAMENTO  \n",
       "0         4gb                    \n",
       "1                                \n",
       "2                                \n",
       "3                                \n",
       "4                                "
      ]
     },
     "execution_count": 58,
     "metadata": {},
     "output_type": "execute_result"
    }
   ],
   "source": [
    "resultados.head()"
   ]
  },
  {
   "cell_type": "code",
   "execution_count": 59,
   "metadata": {},
   "outputs": [
    {
     "data": {
      "text/plain": [
       "(588, 5)"
      ]
     },
     "execution_count": 59,
     "metadata": {},
     "output_type": "execute_result"
    }
   ],
   "source": [
    "resultados.shape"
   ]
  },
  {
   "cell_type": "code",
   "execution_count": 60,
   "metadata": {},
   "outputs": [],
   "source": [
    "# Casos onde houve match\n",
    "df6 = resultados[resultados['SUBMARINO'] != '']"
   ]
  },
  {
   "cell_type": "code",
   "execution_count": 61,
   "metadata": {},
   "outputs": [
    {
     "name": "stdout",
     "output_type": "stream",
     "text": [
      "qtd de match: 0.7227891156462585\n"
     ]
    }
   ],
   "source": [
    "print('qtd de match:', len(df6)/len(birdie_data))"
   ]
  },
  {
   "cell_type": "code",
   "execution_count": 62,
   "metadata": {},
   "outputs": [],
   "source": [
    "resultados.to_csv('data/matching.tsv', sep='\\t', index=False)"
   ]
  }
 ],
 "metadata": {
  "kernelspec": {
   "display_name": "Python 3",
   "language": "python",
   "name": "python3"
  },
  "language_info": {
   "codemirror_mode": {
    "name": "ipython",
    "version": 3
   },
   "file_extension": ".py",
   "mimetype": "text/x-python",
   "name": "python",
   "nbconvert_exporter": "python",
   "pygments_lexer": "ipython3",
   "version": "3.7.3"
  }
 },
 "nbformat": 4,
 "nbformat_minor": 2
}
