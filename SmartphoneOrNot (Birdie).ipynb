{
 "cells": [
  {
   "cell_type": "code",
   "execution_count": 1,
   "metadata": {},
   "outputs": [],
   "source": [
    "import pandas as pd\n",
    "import numpy as np\n",
    "\n",
    "from sklearn.feature_extraction.text import CountVectorizer # Bag of Words\n",
    "from sklearn.svm import SVC \n",
    "from sklearn.model_selection import train_test_split\n",
    "from sklearn.metrics import confusion_matrix\n",
    "\n",
    "import warnings\n",
    "warnings.filterwarnings(\"ignore\")"
   ]
  },
  {
   "cell_type": "markdown",
   "metadata": {},
   "source": [
    "#### Importando os dados"
   ]
  },
  {
   "cell_type": "code",
   "execution_count": 2,
   "metadata": {},
   "outputs": [],
   "source": [
    "data = pd.read_table(\"data/data_estag_ds.tsv\")"
   ]
  },
  {
   "cell_type": "code",
   "execution_count": 3,
   "metadata": {},
   "outputs": [
    {
     "data": {
      "text/html": [
       "<div>\n",
       "<style scoped>\n",
       "    .dataframe tbody tr th:only-of-type {\n",
       "        vertical-align: middle;\n",
       "    }\n",
       "\n",
       "    .dataframe tbody tr th {\n",
       "        vertical-align: top;\n",
       "    }\n",
       "\n",
       "    .dataframe thead th {\n",
       "        text-align: right;\n",
       "    }\n",
       "</style>\n",
       "<table border=\"1\" class=\"dataframe\">\n",
       "  <thead>\n",
       "    <tr style=\"text-align: right;\">\n",
       "      <th></th>\n",
       "      <th>ID</th>\n",
       "      <th>TITLE</th>\n",
       "    </tr>\n",
       "  </thead>\n",
       "  <tbody>\n",
       "    <tr>\n",
       "      <th>0</th>\n",
       "      <td>1041354</td>\n",
       "      <td>Acessório T - Jean Bag For Girls para DS Lite</td>\n",
       "    </tr>\n",
       "    <tr>\n",
       "      <th>1</th>\n",
       "      <td>1041782</td>\n",
       "      <td>Carrinho de Bebê Berço-Passeio - Pegasus Pink ...</td>\n",
       "    </tr>\n",
       "    <tr>\n",
       "      <th>2</th>\n",
       "      <td>1041834</td>\n",
       "      <td>Carrinho de Bebê para Gêmeos Berço-Passeio - T...</td>\n",
       "    </tr>\n",
       "    <tr>\n",
       "      <th>3</th>\n",
       "      <td>1042568</td>\n",
       "      <td>Car Center - Calesita</td>\n",
       "    </tr>\n",
       "    <tr>\n",
       "      <th>4</th>\n",
       "      <td>1042584</td>\n",
       "      <td>Donka Trem com Som - Calesita</td>\n",
       "    </tr>\n",
       "  </tbody>\n",
       "</table>\n",
       "</div>"
      ],
      "text/plain": [
       "        ID                                              TITLE\n",
       "0  1041354      Acessório T - Jean Bag For Girls para DS Lite\n",
       "1  1041782  Carrinho de Bebê Berço-Passeio - Pegasus Pink ...\n",
       "2  1041834  Carrinho de Bebê para Gêmeos Berço-Passeio - T...\n",
       "3  1042568                              Car Center - Calesita\n",
       "4  1042584                      Donka Trem com Som - Calesita"
      ]
     },
     "execution_count": 3,
     "metadata": {},
     "output_type": "execute_result"
    }
   ],
   "source": [
    "data.head()"
   ]
  },
  {
   "cell_type": "markdown",
   "metadata": {},
   "source": [
    "#### Após uma breve análise do arquivo de dados, é possível perceber a presença de smartphones logo nos primeiros exemplos, porém, eles só aparecem novamente no final do arquivo. Graças a essa separação clara, é fácil classificar manualmente os exemplos para usar aprendizado supervisionado"
   ]
  },
  {
   "cell_type": "code",
   "execution_count": 4,
   "metadata": {
    "scrolled": false
   },
   "outputs": [
    {
     "name": "stdout",
     "output_type": "stream",
     "text": [
      "0.0    2001\n",
      "1.0     605\n",
      "Name: CLASS, dtype: int64\n",
      "\n",
      "Porcentagem de Smartphones 0.23215656178050653\n"
     ]
    }
   ],
   "source": [
    "data[\"CLASS\"] = np.zeros(len(data)) # Adiciona uma coluna \"CLASS\" somente com valores 0\n",
    "\n",
    "# Adiciona 1 a classe dos exemplos que sao smartphones\n",
    "data.loc[6:39, \"CLASS\"] = 1\n",
    "data.loc[2035:, \"CLASS\"] = 1\n",
    "\n",
    "total_classes = data[\"CLASS\"].value_counts()\n",
    "print(total_classes)\n",
    "print(\"\\nPorcentagem de Smartphones\", total_classes[1]/(total_classes[0]+total_classes[1]))"
   ]
  },
  {
   "cell_type": "code",
   "execution_count": 5,
   "metadata": {
    "scrolled": true
   },
   "outputs": [
    {
     "data": {
      "text/plain": [
       "ID       0\n",
       "TITLE    0\n",
       "CLASS    0\n",
       "dtype: int64"
      ]
     },
     "execution_count": 5,
     "metadata": {},
     "output_type": "execute_result"
    }
   ],
   "source": [
    "data.isnull().sum() # Nao tem dados faltando"
   ]
  },
  {
   "cell_type": "code",
   "execution_count": 6,
   "metadata": {
    "scrolled": true
   },
   "outputs": [
    {
     "data": {
      "text/html": [
       "<div>\n",
       "<style scoped>\n",
       "    .dataframe tbody tr th:only-of-type {\n",
       "        vertical-align: middle;\n",
       "    }\n",
       "\n",
       "    .dataframe tbody tr th {\n",
       "        vertical-align: top;\n",
       "    }\n",
       "\n",
       "    .dataframe thead th {\n",
       "        text-align: right;\n",
       "    }\n",
       "</style>\n",
       "<table border=\"1\" class=\"dataframe\">\n",
       "  <thead>\n",
       "    <tr style=\"text-align: right;\">\n",
       "      <th></th>\n",
       "      <th>ID</th>\n",
       "      <th>TITLE</th>\n",
       "      <th>CLASS</th>\n",
       "    </tr>\n",
       "  </thead>\n",
       "  <tbody>\n",
       "    <tr>\n",
       "      <th>6</th>\n",
       "      <td>1940486</td>\n",
       "      <td>Smartphone LG Optimus L7 II Dual P716 Preto co...</td>\n",
       "      <td>1.0</td>\n",
       "    </tr>\n",
       "    <tr>\n",
       "      <th>7</th>\n",
       "      <td>2277815</td>\n",
       "      <td>Smartphone Samsung Galaxy S4 Mini Duos Preto c...</td>\n",
       "      <td>1.0</td>\n",
       "    </tr>\n",
       "    <tr>\n",
       "      <th>8</th>\n",
       "      <td>2961097</td>\n",
       "      <td>Smartphone  Samsung Galaxy S5 SM-G900M Branco ...</td>\n",
       "      <td>1.0</td>\n",
       "    </tr>\n",
       "    <tr>\n",
       "      <th>9</th>\n",
       "      <td>2961099</td>\n",
       "      <td>Smartphone  Samsung Galaxy S5 SM-G900M Dourado...</td>\n",
       "      <td>1.0</td>\n",
       "    </tr>\n",
       "    <tr>\n",
       "      <th>10</th>\n",
       "      <td>3031744</td>\n",
       "      <td>Smartphone LG L90 Dual D410 Preto com Tela de ...</td>\n",
       "      <td>1.0</td>\n",
       "    </tr>\n",
       "  </tbody>\n",
       "</table>\n",
       "</div>"
      ],
      "text/plain": [
       "         ID                                              TITLE  CLASS\n",
       "6   1940486  Smartphone LG Optimus L7 II Dual P716 Preto co...    1.0\n",
       "7   2277815  Smartphone Samsung Galaxy S4 Mini Duos Preto c...    1.0\n",
       "8   2961097  Smartphone  Samsung Galaxy S5 SM-G900M Branco ...    1.0\n",
       "9   2961099  Smartphone  Samsung Galaxy S5 SM-G900M Dourado...    1.0\n",
       "10  3031744  Smartphone LG L90 Dual D410 Preto com Tela de ...    1.0"
      ]
     },
     "execution_count": 6,
     "metadata": {},
     "output_type": "execute_result"
    }
   ],
   "source": [
    "data[data['CLASS'] == 1].head() # Dataset atualizado"
   ]
  },
  {
   "cell_type": "code",
   "execution_count": 7,
   "metadata": {},
   "outputs": [
    {
     "name": "stdout",
     "output_type": "stream",
     "text": [
      "X: (2606, 4165)\n",
      "y: (2606,)\n",
      "<class 'scipy.sparse.csr.csr_matrix'>\n"
     ]
    }
   ],
   "source": [
    "# Faz uma bag of words com matriz esparsa\n",
    "vectorizer = CountVectorizer()\n",
    "X = vectorizer.fit_transform(data.loc[:,\"TITLE\"])\n",
    "y = data.loc[:,\"CLASS\"]\n",
    "\n",
    "print(\"X:\", X.toarray().shape)\n",
    "print(\"y:\",y.shape)\n",
    "print(type(X))"
   ]
  },
  {
   "cell_type": "code",
   "execution_count": 8,
   "metadata": {},
   "outputs": [
    {
     "name": "stdout",
     "output_type": "stream",
     "text": [
      "Porcentagem de Smartphones no conjunto de treino: 0.23739035087719298\n",
      "Porcentagem de Smartphones no conjunto de teste: 0.21994884910485935\n"
     ]
    }
   ],
   "source": [
    "# Separando os dados de teste e de treino\n",
    "X_train, X_test, y_train, y_test = train_test_split(X, y, test_size=0.3, random_state=1)\n",
    "\n",
    "# Garantindo que haja uma quantidade razoável de exemplos positivos em ambos os conjuntos\n",
    "n_y_train = len(y_train[y_train == 1])\n",
    "n_y_test = len(y_test[y_test == 1])\n",
    "\n",
    "print(\"Porcentagem de Smartphones no conjunto de treino:\", n_y_train/len(y_train))\n",
    "print(\"Porcentagem de Smartphones no conjunto de teste:\", n_y_test/len(y_test))"
   ]
  },
  {
   "cell_type": "markdown",
   "metadata": {},
   "source": [
    "#### Aplicando SVM com Kernel Linear"
   ]
  },
  {
   "cell_type": "code",
   "execution_count": 9,
   "metadata": {},
   "outputs": [
    {
     "name": "stdout",
     "output_type": "stream",
     "text": [
      "Accuracy:\n",
      " 0.9936061381074168\n",
      "\n",
      "Confusion Matrix:\n",
      " [[607   3]\n",
      " [  2 170]]\n"
     ]
    }
   ],
   "source": [
    "clf = SVC(kernel='linear', random_state=1)\n",
    "clf.fit(X_train, y_train)\n",
    "print(\"Accuracy:\\n\", clf.score(X_test,y_test))\n",
    "print(\"\\nConfusion Matrix:\\n\", confusion_matrix(y_test, clf.predict(X_test)))"
   ]
  },
  {
   "cell_type": "code",
   "execution_count": 10,
   "metadata": {},
   "outputs": [],
   "source": [
    "# Adiciona à coluna CLASS os valores preditos pelo classificador\n",
    "data.loc[:,\"CLASS\"] = clf.predict(X)"
   ]
  },
  {
   "cell_type": "code",
   "execution_count": 11,
   "metadata": {},
   "outputs": [
    {
     "data": {
      "text/html": [
       "<div>\n",
       "<style scoped>\n",
       "    .dataframe tbody tr th:only-of-type {\n",
       "        vertical-align: middle;\n",
       "    }\n",
       "\n",
       "    .dataframe tbody tr th {\n",
       "        vertical-align: top;\n",
       "    }\n",
       "\n",
       "    .dataframe thead th {\n",
       "        text-align: right;\n",
       "    }\n",
       "</style>\n",
       "<table border=\"1\" class=\"dataframe\">\n",
       "  <thead>\n",
       "    <tr style=\"text-align: right;\">\n",
       "      <th></th>\n",
       "      <th>ID</th>\n",
       "      <th>TITLE</th>\n",
       "      <th>CLASS</th>\n",
       "    </tr>\n",
       "  </thead>\n",
       "  <tbody>\n",
       "    <tr>\n",
       "      <th>2586</th>\n",
       "      <td>1106549255</td>\n",
       "      <td>Celular Samsung J400m Galaxy J4 Violeta 32 Gb</td>\n",
       "      <td>1.0</td>\n",
       "    </tr>\n",
       "    <tr>\n",
       "      <th>2587</th>\n",
       "      <td>1106609097</td>\n",
       "      <td>Celular Samsung J400m Galaxy J4 Prata 32 Gb</td>\n",
       "      <td>1.0</td>\n",
       "    </tr>\n",
       "    <tr>\n",
       "      <th>2588</th>\n",
       "      <td>1107590289</td>\n",
       "      <td>Celular Xiaomin Redmi Note 5 64gb 4g Ram Pront...</td>\n",
       "      <td>1.0</td>\n",
       "    </tr>\n",
       "    <tr>\n",
       "      <th>2589</th>\n",
       "      <td>1109394935</td>\n",
       "      <td>Iphone 8 64 Gb Apple Desbloqueado Anatel Lacra...</td>\n",
       "      <td>1.0</td>\n",
       "    </tr>\n",
       "    <tr>\n",
       "      <th>2590</th>\n",
       "      <td>1109397175</td>\n",
       "      <td>Iphone 8 64 Gb Apple Desbloqueado Anatel Lacra...</td>\n",
       "      <td>1.0</td>\n",
       "    </tr>\n",
       "    <tr>\n",
       "      <th>2591</th>\n",
       "      <td>1110226459</td>\n",
       "      <td>Apple Iphone 8 Plus 64gb Gold Dourado - Novo L...</td>\n",
       "      <td>1.0</td>\n",
       "    </tr>\n",
       "    <tr>\n",
       "      <th>2592</th>\n",
       "      <td>1111104349</td>\n",
       "      <td>Smartphone Xiaomi Redmi Note 4x 64gb 4gb Rom G...</td>\n",
       "      <td>1.0</td>\n",
       "    </tr>\n",
       "    <tr>\n",
       "      <th>2593</th>\n",
       "      <td>1112728925</td>\n",
       "      <td>Celular Xiaomi Redmi S2 64gb 4gb De Ram 4g Lac...</td>\n",
       "      <td>1.0</td>\n",
       "    </tr>\n",
       "    <tr>\n",
       "      <th>2594</th>\n",
       "      <td>1112883328</td>\n",
       "      <td>Samsung Galaxy J7 Prime 2 Tv</td>\n",
       "      <td>1.0</td>\n",
       "    </tr>\n",
       "    <tr>\n",
       "      <th>2595</th>\n",
       "      <td>1113203077</td>\n",
       "      <td>Smartphone Samsung Galaxy J6 Sm-j600g/ds Dual ...</td>\n",
       "      <td>1.0</td>\n",
       "    </tr>\n",
       "    <tr>\n",
       "      <th>2596</th>\n",
       "      <td>1113807094</td>\n",
       "      <td>Iphone X 256gb Modelo 1901 Anatel/ Com Nota Fi...</td>\n",
       "      <td>1.0</td>\n",
       "    </tr>\n",
       "    <tr>\n",
       "      <th>2597</th>\n",
       "      <td>1115291630</td>\n",
       "      <td>Relógio Smartwatch Samsung Gear Sm-r800 46mm C...</td>\n",
       "      <td>1.0</td>\n",
       "    </tr>\n",
       "    <tr>\n",
       "      <th>2598</th>\n",
       "      <td>1115333516</td>\n",
       "      <td>Celular Galaxy J7 Pro 64gb Preto + Cartão Sd 8...</td>\n",
       "      <td>1.0</td>\n",
       "    </tr>\n",
       "    <tr>\n",
       "      <th>2599</th>\n",
       "      <td>1115652402</td>\n",
       "      <td>Celular Xiaomi Redmi Note 5 64gb 4gb 5.99pol</td>\n",
       "      <td>1.0</td>\n",
       "    </tr>\n",
       "    <tr>\n",
       "      <th>2600</th>\n",
       "      <td>1118394240</td>\n",
       "      <td>Celular Xiaomi Redmi Note 5 32gb 3gb C/ 3 Brindes</td>\n",
       "      <td>1.0</td>\n",
       "    </tr>\n",
       "    <tr>\n",
       "      <th>2601</th>\n",
       "      <td>1118682127</td>\n",
       "      <td>Motorola Nextel I867  Ferrari - Otimo Estado</td>\n",
       "      <td>1.0</td>\n",
       "    </tr>\n",
       "    <tr>\n",
       "      <th>2602</th>\n",
       "      <td>1119000250</td>\n",
       "      <td>Galaxy S9 Plus 128 Gb N Fiscal ( R$ 2750 Em 1x...</td>\n",
       "      <td>1.0</td>\n",
       "    </tr>\n",
       "    <tr>\n",
       "      <th>2603</th>\n",
       "      <td>1119300954</td>\n",
       "      <td>Apple Iphone X 64gb Preto Anatel Lacrado</td>\n",
       "      <td>1.0</td>\n",
       "    </tr>\n",
       "    <tr>\n",
       "      <th>2604</th>\n",
       "      <td>1119634973</td>\n",
       "      <td>Celular Xiaomi Redmi 6 32gb 3gb Ram Dual Cam</td>\n",
       "      <td>1.0</td>\n",
       "    </tr>\n",
       "    <tr>\n",
       "      <th>2605</th>\n",
       "      <td>1120952433</td>\n",
       "      <td>Motorola Nextel I867  Ferrari - Otimo Estado</td>\n",
       "      <td>1.0</td>\n",
       "    </tr>\n",
       "  </tbody>\n",
       "</table>\n",
       "</div>"
      ],
      "text/plain": [
       "              ID                                              TITLE  CLASS\n",
       "2586  1106549255      Celular Samsung J400m Galaxy J4 Violeta 32 Gb    1.0\n",
       "2587  1106609097        Celular Samsung J400m Galaxy J4 Prata 32 Gb    1.0\n",
       "2588  1107590289  Celular Xiaomin Redmi Note 5 64gb 4g Ram Pront...    1.0\n",
       "2589  1109394935  Iphone 8 64 Gb Apple Desbloqueado Anatel Lacra...    1.0\n",
       "2590  1109397175  Iphone 8 64 Gb Apple Desbloqueado Anatel Lacra...    1.0\n",
       "2591  1110226459  Apple Iphone 8 Plus 64gb Gold Dourado - Novo L...    1.0\n",
       "2592  1111104349  Smartphone Xiaomi Redmi Note 4x 64gb 4gb Rom G...    1.0\n",
       "2593  1112728925  Celular Xiaomi Redmi S2 64gb 4gb De Ram 4g Lac...    1.0\n",
       "2594  1112883328                       Samsung Galaxy J7 Prime 2 Tv    1.0\n",
       "2595  1113203077  Smartphone Samsung Galaxy J6 Sm-j600g/ds Dual ...    1.0\n",
       "2596  1113807094  Iphone X 256gb Modelo 1901 Anatel/ Com Nota Fi...    1.0\n",
       "2597  1115291630  Relógio Smartwatch Samsung Gear Sm-r800 46mm C...    1.0\n",
       "2598  1115333516  Celular Galaxy J7 Pro 64gb Preto + Cartão Sd 8...    1.0\n",
       "2599  1115652402       Celular Xiaomi Redmi Note 5 64gb 4gb 5.99pol    1.0\n",
       "2600  1118394240  Celular Xiaomi Redmi Note 5 32gb 3gb C/ 3 Brindes    1.0\n",
       "2601  1118682127       Motorola Nextel I867  Ferrari - Otimo Estado    1.0\n",
       "2602  1119000250  Galaxy S9 Plus 128 Gb N Fiscal ( R$ 2750 Em 1x...    1.0\n",
       "2603  1119300954           Apple Iphone X 64gb Preto Anatel Lacrado    1.0\n",
       "2604  1119634973       Celular Xiaomi Redmi 6 32gb 3gb Ram Dual Cam    1.0\n",
       "2605  1120952433       Motorola Nextel I867  Ferrari - Otimo Estado    1.0"
      ]
     },
     "execution_count": 11,
     "metadata": {},
     "output_type": "execute_result"
    }
   ],
   "source": [
    "# 20 exemplos de smartphone\n",
    "data[data[\"CLASS\"] == 1].tail(20)"
   ]
  },
  {
   "cell_type": "code",
   "execution_count": 12,
   "metadata": {},
   "outputs": [],
   "source": [
    "# Salva os resultados em formato xlsx (excel) e csv\n",
    "\n",
    "data[[\"TITLE\",\"CLASS\"]].to_excel(\"data/resultado.xlsx\")\n",
    "data[[\"TITLE\",\"CLASS\"]].to_csv(\"data/resultado.csv\")"
   ]
  },
  {
   "cell_type": "markdown",
   "metadata": {},
   "source": [
    "# Análises Finais:\n",
    "- Em minha primeira tentativa, usei a abordagem não supervisionada (K-Means), pois achei que não seria permitido classificar manualmente os dados, já que a feature target não foi fornecida. Isso causou vários problemas como:\n",
    "<br>\n",
    "-- Impossibilidade de checar automaticamente a performance do classificador;\n",
    "<br>\n",
    "-- Necessidade de checagem manual para cada um dos clusteres;\n",
    "<br>\n",
    "-- Performance notávelmente abalada;\n",
    "<br>\n",
    "-- etc.\n",
    "<br>\n",
    "<br>\n",
    "- Nesta nova tentativa, usei a dica que recebi na entrevista e usei a matriz esparsa para armazenar a bag of words. Além disso, abri mão de algumas partes do código que havia implementado sozinho, utilizando então bibliotecas mais otimizadas. Isso aumentou muito o desempenho do código. \n",
    "<br>\n",
    "<br>\n",
    "- Sobre o classificador, resolvi usar o SVM com kernel linear. Tentei usar o 'default' com kernel RBF, mas o desempenho não foi bom. Talvez o kernel rbf complique muito o modelo, causando overfit. Já com o SVM Linear, o desempenho foi muito bom, acertando praticamente todos os casos."
   ]
  }
 ],
 "metadata": {
  "kernelspec": {
   "display_name": "Python 3",
   "language": "python",
   "name": "python3"
  },
  "language_info": {
   "codemirror_mode": {
    "name": "ipython",
    "version": 3
   },
   "file_extension": ".py",
   "mimetype": "text/x-python",
   "name": "python",
   "nbconvert_exporter": "python",
   "pygments_lexer": "ipython3",
   "version": "3.7.1rc1"
  }
 },
 "nbformat": 4,
 "nbformat_minor": 2
}
